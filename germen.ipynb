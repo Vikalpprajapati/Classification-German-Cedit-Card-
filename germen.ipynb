{
 "cells": [
  {
   "cell_type": "code",
   "execution_count": 69,
   "id": "b282f378-23ff-48cf-a83c-57d33b5f3236",
   "metadata": {},
   "outputs": [],
   "source": [
    "# import libraries\n",
    "import numpy as np\n",
    "import pandas as pd\n",
    "import matplotlib.pyplot as plt\n",
    "import seaborn as sns\n",
    "import warnings\n",
    "warnings.filterwarnings('ignore')"
   ]
  },
  {
   "cell_type": "markdown",
   "id": "c224ee5a-2803-4128-8d51-ce141200e377",
   "metadata": {},
   "source": [
    "# Identifying Good & Bad Customers for Granting Credit This dataset classifies people described by a set of attributes as good or bad credit risks."
   ]
  },
  {
   "cell_type": "code",
   "execution_count": 3,
   "id": "b001279a-a952-4e07-a6d9-c1cbe9b0868d",
   "metadata": {},
   "outputs": [],
   "source": [
    "# read the file \n",
    "df=pd.read_csv(\"German_Credit_data.csv\")"
   ]
  },
  {
   "cell_type": "code",
   "execution_count": 4,
   "id": "46de8ae8-53cd-43dd-a261-69594e1b1cb2",
   "metadata": {},
   "outputs": [
    {
     "data": {
      "text/html": [
       "<div>\n",
       "<style scoped>\n",
       "    .dataframe tbody tr th:only-of-type {\n",
       "        vertical-align: middle;\n",
       "    }\n",
       "\n",
       "    .dataframe tbody tr th {\n",
       "        vertical-align: top;\n",
       "    }\n",
       "\n",
       "    .dataframe thead th {\n",
       "        text-align: right;\n",
       "    }\n",
       "</style>\n",
       "<table border=\"1\" class=\"dataframe\">\n",
       "  <thead>\n",
       "    <tr style=\"text-align: right;\">\n",
       "      <th></th>\n",
       "      <th>Creditability</th>\n",
       "      <th>Status_of_existing_account</th>\n",
       "      <th>Duration_of_Credit_month</th>\n",
       "      <th>Payment_Status_of_Previous_Credit(Credit_history)</th>\n",
       "      <th>Purpose_of_loan</th>\n",
       "      <th>Credit_Amount</th>\n",
       "      <th>Value_of_Savings_account&amp;bonds</th>\n",
       "      <th>Years_of_Present_Employment</th>\n",
       "      <th>Percentage_of_disposable_income</th>\n",
       "      <th>Sex_&amp;_Marital_Status</th>\n",
       "      <th>...</th>\n",
       "      <th>Duration_in_Present_Residence</th>\n",
       "      <th>Property</th>\n",
       "      <th>Age_in_years</th>\n",
       "      <th>Concurrent_Credits</th>\n",
       "      <th>Housing</th>\n",
       "      <th>No_of_Credits_at_this__Bank</th>\n",
       "      <th>Occupation</th>\n",
       "      <th>No_of_dependents</th>\n",
       "      <th>Telephone</th>\n",
       "      <th>Foreign_Worker</th>\n",
       "    </tr>\n",
       "  </thead>\n",
       "  <tbody>\n",
       "    <tr>\n",
       "      <th>0</th>\n",
       "      <td>1</td>\n",
       "      <td>1</td>\n",
       "      <td>18</td>\n",
       "      <td>4</td>\n",
       "      <td>2</td>\n",
       "      <td>1049</td>\n",
       "      <td>1</td>\n",
       "      <td>2</td>\n",
       "      <td>4</td>\n",
       "      <td>2</td>\n",
       "      <td>...</td>\n",
       "      <td>4</td>\n",
       "      <td>2</td>\n",
       "      <td>21</td>\n",
       "      <td>3</td>\n",
       "      <td>1</td>\n",
       "      <td>1</td>\n",
       "      <td>3</td>\n",
       "      <td>1</td>\n",
       "      <td>1</td>\n",
       "      <td>1</td>\n",
       "    </tr>\n",
       "    <tr>\n",
       "      <th>1</th>\n",
       "      <td>1</td>\n",
       "      <td>1</td>\n",
       "      <td>9</td>\n",
       "      <td>4</td>\n",
       "      <td>0</td>\n",
       "      <td>2799</td>\n",
       "      <td>1</td>\n",
       "      <td>3</td>\n",
       "      <td>2</td>\n",
       "      <td>3</td>\n",
       "      <td>...</td>\n",
       "      <td>2</td>\n",
       "      <td>1</td>\n",
       "      <td>36</td>\n",
       "      <td>3</td>\n",
       "      <td>1</td>\n",
       "      <td>2</td>\n",
       "      <td>3</td>\n",
       "      <td>2</td>\n",
       "      <td>1</td>\n",
       "      <td>1</td>\n",
       "    </tr>\n",
       "    <tr>\n",
       "      <th>2</th>\n",
       "      <td>1</td>\n",
       "      <td>2</td>\n",
       "      <td>12</td>\n",
       "      <td>2</td>\n",
       "      <td>9</td>\n",
       "      <td>841</td>\n",
       "      <td>2</td>\n",
       "      <td>4</td>\n",
       "      <td>2</td>\n",
       "      <td>2</td>\n",
       "      <td>...</td>\n",
       "      <td>4</td>\n",
       "      <td>1</td>\n",
       "      <td>23</td>\n",
       "      <td>3</td>\n",
       "      <td>1</td>\n",
       "      <td>1</td>\n",
       "      <td>2</td>\n",
       "      <td>1</td>\n",
       "      <td>1</td>\n",
       "      <td>1</td>\n",
       "    </tr>\n",
       "    <tr>\n",
       "      <th>3</th>\n",
       "      <td>1</td>\n",
       "      <td>1</td>\n",
       "      <td>12</td>\n",
       "      <td>4</td>\n",
       "      <td>0</td>\n",
       "      <td>2122</td>\n",
       "      <td>1</td>\n",
       "      <td>3</td>\n",
       "      <td>3</td>\n",
       "      <td>3</td>\n",
       "      <td>...</td>\n",
       "      <td>2</td>\n",
       "      <td>1</td>\n",
       "      <td>39</td>\n",
       "      <td>3</td>\n",
       "      <td>1</td>\n",
       "      <td>2</td>\n",
       "      <td>2</td>\n",
       "      <td>2</td>\n",
       "      <td>1</td>\n",
       "      <td>2</td>\n",
       "    </tr>\n",
       "    <tr>\n",
       "      <th>4</th>\n",
       "      <td>1</td>\n",
       "      <td>1</td>\n",
       "      <td>12</td>\n",
       "      <td>4</td>\n",
       "      <td>0</td>\n",
       "      <td>2171</td>\n",
       "      <td>1</td>\n",
       "      <td>3</td>\n",
       "      <td>4</td>\n",
       "      <td>3</td>\n",
       "      <td>...</td>\n",
       "      <td>4</td>\n",
       "      <td>2</td>\n",
       "      <td>38</td>\n",
       "      <td>1</td>\n",
       "      <td>2</td>\n",
       "      <td>2</td>\n",
       "      <td>2</td>\n",
       "      <td>1</td>\n",
       "      <td>1</td>\n",
       "      <td>2</td>\n",
       "    </tr>\n",
       "  </tbody>\n",
       "</table>\n",
       "<p>5 rows × 21 columns</p>\n",
       "</div>"
      ],
      "text/plain": [
       "   Creditability  Status_of_existing_account  Duration_of_Credit_month  \\\n",
       "0              1                           1                        18   \n",
       "1              1                           1                         9   \n",
       "2              1                           2                        12   \n",
       "3              1                           1                        12   \n",
       "4              1                           1                        12   \n",
       "\n",
       "   Payment_Status_of_Previous_Credit(Credit_history)  Purpose_of_loan  \\\n",
       "0                                                  4                2   \n",
       "1                                                  4                0   \n",
       "2                                                  2                9   \n",
       "3                                                  4                0   \n",
       "4                                                  4                0   \n",
       "\n",
       "   Credit_Amount  Value_of_Savings_account&bonds  Years_of_Present_Employment  \\\n",
       "0           1049                               1                            2   \n",
       "1           2799                               1                            3   \n",
       "2            841                               2                            4   \n",
       "3           2122                               1                            3   \n",
       "4           2171                               1                            3   \n",
       "\n",
       "   Percentage_of_disposable_income  Sex_&_Marital_Status  ...  \\\n",
       "0                                4                     2  ...   \n",
       "1                                2                     3  ...   \n",
       "2                                2                     2  ...   \n",
       "3                                3                     3  ...   \n",
       "4                                4                     3  ...   \n",
       "\n",
       "   Duration_in_Present_Residence  Property  Age_in_years  Concurrent_Credits  \\\n",
       "0                              4         2            21                   3   \n",
       "1                              2         1            36                   3   \n",
       "2                              4         1            23                   3   \n",
       "3                              2         1            39                   3   \n",
       "4                              4         2            38                   1   \n",
       "\n",
       "   Housing  No_of_Credits_at_this__Bank  Occupation  No_of_dependents  \\\n",
       "0        1                            1           3                 1   \n",
       "1        1                            2           3                 2   \n",
       "2        1                            1           2                 1   \n",
       "3        1                            2           2                 2   \n",
       "4        2                            2           2                 1   \n",
       "\n",
       "   Telephone  Foreign_Worker  \n",
       "0          1               1  \n",
       "1          1               1  \n",
       "2          1               1  \n",
       "3          1               2  \n",
       "4          1               2  \n",
       "\n",
       "[5 rows x 21 columns]"
      ]
     },
     "execution_count": 4,
     "metadata": {},
     "output_type": "execute_result"
    }
   ],
   "source": [
    "# first five record\n",
    "df.head()"
   ]
  },
  {
   "cell_type": "code",
   "execution_count": 5,
   "id": "24433427-aa41-4973-8eba-9ceb8c76fb02",
   "metadata": {},
   "outputs": [
    {
     "data": {
      "text/html": [
       "<div>\n",
       "<style scoped>\n",
       "    .dataframe tbody tr th:only-of-type {\n",
       "        vertical-align: middle;\n",
       "    }\n",
       "\n",
       "    .dataframe tbody tr th {\n",
       "        vertical-align: top;\n",
       "    }\n",
       "\n",
       "    .dataframe thead th {\n",
       "        text-align: right;\n",
       "    }\n",
       "</style>\n",
       "<table border=\"1\" class=\"dataframe\">\n",
       "  <thead>\n",
       "    <tr style=\"text-align: right;\">\n",
       "      <th></th>\n",
       "      <th>Creditability</th>\n",
       "      <th>Status_of_existing_account</th>\n",
       "      <th>Duration_of_Credit_month</th>\n",
       "      <th>Payment_Status_of_Previous_Credit(Credit_history)</th>\n",
       "      <th>Purpose_of_loan</th>\n",
       "      <th>Credit_Amount</th>\n",
       "      <th>Value_of_Savings_account&amp;bonds</th>\n",
       "      <th>Years_of_Present_Employment</th>\n",
       "      <th>Percentage_of_disposable_income</th>\n",
       "      <th>Sex_&amp;_Marital_Status</th>\n",
       "      <th>...</th>\n",
       "      <th>Duration_in_Present_Residence</th>\n",
       "      <th>Property</th>\n",
       "      <th>Age_in_years</th>\n",
       "      <th>Concurrent_Credits</th>\n",
       "      <th>Housing</th>\n",
       "      <th>No_of_Credits_at_this__Bank</th>\n",
       "      <th>Occupation</th>\n",
       "      <th>No_of_dependents</th>\n",
       "      <th>Telephone</th>\n",
       "      <th>Foreign_Worker</th>\n",
       "    </tr>\n",
       "  </thead>\n",
       "  <tbody>\n",
       "    <tr>\n",
       "      <th>995</th>\n",
       "      <td>0</td>\n",
       "      <td>1</td>\n",
       "      <td>24</td>\n",
       "      <td>2</td>\n",
       "      <td>3</td>\n",
       "      <td>1987</td>\n",
       "      <td>1</td>\n",
       "      <td>3</td>\n",
       "      <td>2</td>\n",
       "      <td>3</td>\n",
       "      <td>...</td>\n",
       "      <td>4</td>\n",
       "      <td>1</td>\n",
       "      <td>21</td>\n",
       "      <td>3</td>\n",
       "      <td>1</td>\n",
       "      <td>1</td>\n",
       "      <td>2</td>\n",
       "      <td>2</td>\n",
       "      <td>1</td>\n",
       "      <td>1</td>\n",
       "    </tr>\n",
       "    <tr>\n",
       "      <th>996</th>\n",
       "      <td>0</td>\n",
       "      <td>1</td>\n",
       "      <td>24</td>\n",
       "      <td>2</td>\n",
       "      <td>0</td>\n",
       "      <td>2303</td>\n",
       "      <td>1</td>\n",
       "      <td>5</td>\n",
       "      <td>4</td>\n",
       "      <td>3</td>\n",
       "      <td>...</td>\n",
       "      <td>1</td>\n",
       "      <td>1</td>\n",
       "      <td>45</td>\n",
       "      <td>3</td>\n",
       "      <td>2</td>\n",
       "      <td>1</td>\n",
       "      <td>3</td>\n",
       "      <td>1</td>\n",
       "      <td>1</td>\n",
       "      <td>1</td>\n",
       "    </tr>\n",
       "    <tr>\n",
       "      <th>997</th>\n",
       "      <td>0</td>\n",
       "      <td>4</td>\n",
       "      <td>21</td>\n",
       "      <td>4</td>\n",
       "      <td>0</td>\n",
       "      <td>12680</td>\n",
       "      <td>5</td>\n",
       "      <td>5</td>\n",
       "      <td>4</td>\n",
       "      <td>3</td>\n",
       "      <td>...</td>\n",
       "      <td>4</td>\n",
       "      <td>4</td>\n",
       "      <td>30</td>\n",
       "      <td>3</td>\n",
       "      <td>3</td>\n",
       "      <td>1</td>\n",
       "      <td>4</td>\n",
       "      <td>1</td>\n",
       "      <td>2</td>\n",
       "      <td>1</td>\n",
       "    </tr>\n",
       "    <tr>\n",
       "      <th>998</th>\n",
       "      <td>0</td>\n",
       "      <td>2</td>\n",
       "      <td>12</td>\n",
       "      <td>2</td>\n",
       "      <td>3</td>\n",
       "      <td>6468</td>\n",
       "      <td>5</td>\n",
       "      <td>1</td>\n",
       "      <td>2</td>\n",
       "      <td>3</td>\n",
       "      <td>...</td>\n",
       "      <td>1</td>\n",
       "      <td>4</td>\n",
       "      <td>52</td>\n",
       "      <td>3</td>\n",
       "      <td>2</td>\n",
       "      <td>1</td>\n",
       "      <td>4</td>\n",
       "      <td>1</td>\n",
       "      <td>2</td>\n",
       "      <td>1</td>\n",
       "    </tr>\n",
       "    <tr>\n",
       "      <th>999</th>\n",
       "      <td>0</td>\n",
       "      <td>1</td>\n",
       "      <td>30</td>\n",
       "      <td>2</td>\n",
       "      <td>2</td>\n",
       "      <td>6350</td>\n",
       "      <td>5</td>\n",
       "      <td>5</td>\n",
       "      <td>4</td>\n",
       "      <td>3</td>\n",
       "      <td>...</td>\n",
       "      <td>4</td>\n",
       "      <td>2</td>\n",
       "      <td>31</td>\n",
       "      <td>3</td>\n",
       "      <td>2</td>\n",
       "      <td>1</td>\n",
       "      <td>3</td>\n",
       "      <td>1</td>\n",
       "      <td>1</td>\n",
       "      <td>1</td>\n",
       "    </tr>\n",
       "  </tbody>\n",
       "</table>\n",
       "<p>5 rows × 21 columns</p>\n",
       "</div>"
      ],
      "text/plain": [
       "     Creditability  Status_of_existing_account  Duration_of_Credit_month  \\\n",
       "995              0                           1                        24   \n",
       "996              0                           1                        24   \n",
       "997              0                           4                        21   \n",
       "998              0                           2                        12   \n",
       "999              0                           1                        30   \n",
       "\n",
       "     Payment_Status_of_Previous_Credit(Credit_history)  Purpose_of_loan  \\\n",
       "995                                                  2                3   \n",
       "996                                                  2                0   \n",
       "997                                                  4                0   \n",
       "998                                                  2                3   \n",
       "999                                                  2                2   \n",
       "\n",
       "     Credit_Amount  Value_of_Savings_account&bonds  \\\n",
       "995           1987                               1   \n",
       "996           2303                               1   \n",
       "997          12680                               5   \n",
       "998           6468                               5   \n",
       "999           6350                               5   \n",
       "\n",
       "     Years_of_Present_Employment  Percentage_of_disposable_income  \\\n",
       "995                            3                                2   \n",
       "996                            5                                4   \n",
       "997                            5                                4   \n",
       "998                            1                                2   \n",
       "999                            5                                4   \n",
       "\n",
       "     Sex_&_Marital_Status  ...  Duration_in_Present_Residence  Property  \\\n",
       "995                     3  ...                              4         1   \n",
       "996                     3  ...                              1         1   \n",
       "997                     3  ...                              4         4   \n",
       "998                     3  ...                              1         4   \n",
       "999                     3  ...                              4         2   \n",
       "\n",
       "     Age_in_years  Concurrent_Credits  Housing  No_of_Credits_at_this__Bank  \\\n",
       "995            21                   3        1                            1   \n",
       "996            45                   3        2                            1   \n",
       "997            30                   3        3                            1   \n",
       "998            52                   3        2                            1   \n",
       "999            31                   3        2                            1   \n",
       "\n",
       "     Occupation  No_of_dependents  Telephone  Foreign_Worker  \n",
       "995           2                 2          1               1  \n",
       "996           3                 1          1               1  \n",
       "997           4                 1          2               1  \n",
       "998           4                 1          2               1  \n",
       "999           3                 1          1               1  \n",
       "\n",
       "[5 rows x 21 columns]"
      ]
     },
     "execution_count": 5,
     "metadata": {},
     "output_type": "execute_result"
    }
   ],
   "source": [
    "# last five record\n",
    "df.tail()"
   ]
  },
  {
   "cell_type": "code",
   "execution_count": 6,
   "id": "87df3700-c3c9-4ab9-92fc-cab3148e83df",
   "metadata": {},
   "outputs": [
    {
     "data": {
      "text/plain": [
       "(1000, 21)"
      ]
     },
     "execution_count": 6,
     "metadata": {},
     "output_type": "execute_result"
    }
   ],
   "source": [
    "df.shape"
   ]
  },
  {
   "cell_type": "code",
   "execution_count": 7,
   "id": "6b2deca3-83ff-4526-b027-71434be2803f",
   "metadata": {},
   "outputs": [
    {
     "data": {
      "text/plain": [
       "21000"
      ]
     },
     "execution_count": 7,
     "metadata": {},
     "output_type": "execute_result"
    }
   ],
   "source": [
    "df.size"
   ]
  },
  {
   "cell_type": "markdown",
   "id": "e58e48fa-d8b7-4aea-830d-16b3ea7eab5e",
   "metadata": {},
   "source": [
    "#we can conclude thatdataset has 1000 observations and 21 features, and one of those features is the target variable."
   ]
  },
  {
   "cell_type": "code",
   "execution_count": 9,
   "id": "e9d40ee3-0453-46fc-a43f-fade6a437a79",
   "metadata": {},
   "outputs": [
    {
     "name": "stdout",
     "output_type": "stream",
     "text": [
      "<class 'pandas.core.frame.DataFrame'>\n",
      "RangeIndex: 1000 entries, 0 to 999\n",
      "Data columns (total 21 columns):\n",
      " #   Column                                             Non-Null Count  Dtype\n",
      "---  ------                                             --------------  -----\n",
      " 0   Creditability                                      1000 non-null   int64\n",
      " 1   Status_of_existing_account                         1000 non-null   int64\n",
      " 2   Duration_of_Credit_month                           1000 non-null   int64\n",
      " 3   Payment_Status_of_Previous_Credit(Credit_history)  1000 non-null   int64\n",
      " 4   Purpose_of_loan                                    1000 non-null   int64\n",
      " 5   Credit_Amount                                      1000 non-null   int64\n",
      " 6   Value_of_Savings_account&bonds                     1000 non-null   int64\n",
      " 7   Years_of_Present_Employment                        1000 non-null   int64\n",
      " 8   Percentage_of_disposable_income                    1000 non-null   int64\n",
      " 9   Sex_&_Marital_Status                               1000 non-null   int64\n",
      " 10  Guarantors/Debtors                                 1000 non-null   int64\n",
      " 11  Duration_in_Present_Residence                      1000 non-null   int64\n",
      " 12  Property                                           1000 non-null   int64\n",
      " 13  Age_in_years                                       1000 non-null   int64\n",
      " 14  Concurrent_Credits                                 1000 non-null   int64\n",
      " 15  Housing                                            1000 non-null   int64\n",
      " 16  No_of_Credits_at_this__Bank                        1000 non-null   int64\n",
      " 17  Occupation                                         1000 non-null   int64\n",
      " 18  No_of_dependents                                   1000 non-null   int64\n",
      " 19  Telephone                                          1000 non-null   int64\n",
      " 20  Foreign_Worker                                     1000 non-null   int64\n",
      "dtypes: int64(21)\n",
      "memory usage: 164.2 KB\n"
     ]
    }
   ],
   "source": [
    "# checking the datatype and info about dataset\n",
    "df.info()"
   ]
  },
  {
   "cell_type": "markdown",
   "id": "5412b3b4-735e-493a-bf52-a8d3178cbaa7",
   "metadata": {},
   "source": [
    "#we can observe that the dataset has a only intger datatype"
   ]
  },
  {
   "cell_type": "code",
   "execution_count": 10,
   "id": "ab9ba9af-578b-467f-9841-f5d11a394e3f",
   "metadata": {},
   "outputs": [
    {
     "data": {
      "text/html": [
       "<div>\n",
       "<style scoped>\n",
       "    .dataframe tbody tr th:only-of-type {\n",
       "        vertical-align: middle;\n",
       "    }\n",
       "\n",
       "    .dataframe tbody tr th {\n",
       "        vertical-align: top;\n",
       "    }\n",
       "\n",
       "    .dataframe thead th {\n",
       "        text-align: right;\n",
       "    }\n",
       "</style>\n",
       "<table border=\"1\" class=\"dataframe\">\n",
       "  <thead>\n",
       "    <tr style=\"text-align: right;\">\n",
       "      <th></th>\n",
       "      <th>Creditability</th>\n",
       "      <th>Status_of_existing_account</th>\n",
       "      <th>Duration_of_Credit_month</th>\n",
       "      <th>Payment_Status_of_Previous_Credit(Credit_history)</th>\n",
       "      <th>Purpose_of_loan</th>\n",
       "      <th>Credit_Amount</th>\n",
       "      <th>Value_of_Savings_account&amp;bonds</th>\n",
       "      <th>Years_of_Present_Employment</th>\n",
       "      <th>Percentage_of_disposable_income</th>\n",
       "      <th>Sex_&amp;_Marital_Status</th>\n",
       "      <th>...</th>\n",
       "      <th>Duration_in_Present_Residence</th>\n",
       "      <th>Property</th>\n",
       "      <th>Age_in_years</th>\n",
       "      <th>Concurrent_Credits</th>\n",
       "      <th>Housing</th>\n",
       "      <th>No_of_Credits_at_this__Bank</th>\n",
       "      <th>Occupation</th>\n",
       "      <th>No_of_dependents</th>\n",
       "      <th>Telephone</th>\n",
       "      <th>Foreign_Worker</th>\n",
       "    </tr>\n",
       "  </thead>\n",
       "  <tbody>\n",
       "    <tr>\n",
       "      <th>count</th>\n",
       "      <td>1000.000000</td>\n",
       "      <td>1000.000000</td>\n",
       "      <td>1000.000000</td>\n",
       "      <td>1000.00000</td>\n",
       "      <td>1000.000000</td>\n",
       "      <td>1000.00000</td>\n",
       "      <td>1000.000000</td>\n",
       "      <td>1000.000000</td>\n",
       "      <td>1000.000000</td>\n",
       "      <td>1000.00000</td>\n",
       "      <td>...</td>\n",
       "      <td>1000.000000</td>\n",
       "      <td>1000.000000</td>\n",
       "      <td>1000.00000</td>\n",
       "      <td>1000.000000</td>\n",
       "      <td>1000.000000</td>\n",
       "      <td>1000.000000</td>\n",
       "      <td>1000.000000</td>\n",
       "      <td>1000.000000</td>\n",
       "      <td>1000.000000</td>\n",
       "      <td>1000.000000</td>\n",
       "    </tr>\n",
       "    <tr>\n",
       "      <th>mean</th>\n",
       "      <td>0.700000</td>\n",
       "      <td>2.577000</td>\n",
       "      <td>20.903000</td>\n",
       "      <td>2.54500</td>\n",
       "      <td>2.828000</td>\n",
       "      <td>3271.24800</td>\n",
       "      <td>2.105000</td>\n",
       "      <td>3.384000</td>\n",
       "      <td>2.973000</td>\n",
       "      <td>2.68200</td>\n",
       "      <td>...</td>\n",
       "      <td>2.845000</td>\n",
       "      <td>2.358000</td>\n",
       "      <td>35.54200</td>\n",
       "      <td>2.675000</td>\n",
       "      <td>1.928000</td>\n",
       "      <td>1.407000</td>\n",
       "      <td>2.904000</td>\n",
       "      <td>1.155000</td>\n",
       "      <td>1.404000</td>\n",
       "      <td>1.037000</td>\n",
       "    </tr>\n",
       "    <tr>\n",
       "      <th>std</th>\n",
       "      <td>0.458487</td>\n",
       "      <td>1.257638</td>\n",
       "      <td>12.058814</td>\n",
       "      <td>1.08312</td>\n",
       "      <td>2.744439</td>\n",
       "      <td>2822.75176</td>\n",
       "      <td>1.580023</td>\n",
       "      <td>1.208306</td>\n",
       "      <td>1.118715</td>\n",
       "      <td>0.70808</td>\n",
       "      <td>...</td>\n",
       "      <td>1.103718</td>\n",
       "      <td>1.050209</td>\n",
       "      <td>11.35267</td>\n",
       "      <td>0.705601</td>\n",
       "      <td>0.530186</td>\n",
       "      <td>0.577654</td>\n",
       "      <td>0.653614</td>\n",
       "      <td>0.362086</td>\n",
       "      <td>0.490943</td>\n",
       "      <td>0.188856</td>\n",
       "    </tr>\n",
       "    <tr>\n",
       "      <th>min</th>\n",
       "      <td>0.000000</td>\n",
       "      <td>1.000000</td>\n",
       "      <td>4.000000</td>\n",
       "      <td>0.00000</td>\n",
       "      <td>0.000000</td>\n",
       "      <td>250.00000</td>\n",
       "      <td>1.000000</td>\n",
       "      <td>1.000000</td>\n",
       "      <td>1.000000</td>\n",
       "      <td>1.00000</td>\n",
       "      <td>...</td>\n",
       "      <td>1.000000</td>\n",
       "      <td>1.000000</td>\n",
       "      <td>19.00000</td>\n",
       "      <td>1.000000</td>\n",
       "      <td>1.000000</td>\n",
       "      <td>1.000000</td>\n",
       "      <td>1.000000</td>\n",
       "      <td>1.000000</td>\n",
       "      <td>1.000000</td>\n",
       "      <td>1.000000</td>\n",
       "    </tr>\n",
       "    <tr>\n",
       "      <th>25%</th>\n",
       "      <td>0.000000</td>\n",
       "      <td>1.000000</td>\n",
       "      <td>12.000000</td>\n",
       "      <td>2.00000</td>\n",
       "      <td>1.000000</td>\n",
       "      <td>1365.50000</td>\n",
       "      <td>1.000000</td>\n",
       "      <td>3.000000</td>\n",
       "      <td>2.000000</td>\n",
       "      <td>2.00000</td>\n",
       "      <td>...</td>\n",
       "      <td>2.000000</td>\n",
       "      <td>1.000000</td>\n",
       "      <td>27.00000</td>\n",
       "      <td>3.000000</td>\n",
       "      <td>2.000000</td>\n",
       "      <td>1.000000</td>\n",
       "      <td>3.000000</td>\n",
       "      <td>1.000000</td>\n",
       "      <td>1.000000</td>\n",
       "      <td>1.000000</td>\n",
       "    </tr>\n",
       "    <tr>\n",
       "      <th>50%</th>\n",
       "      <td>1.000000</td>\n",
       "      <td>2.000000</td>\n",
       "      <td>18.000000</td>\n",
       "      <td>2.00000</td>\n",
       "      <td>2.000000</td>\n",
       "      <td>2319.50000</td>\n",
       "      <td>1.000000</td>\n",
       "      <td>3.000000</td>\n",
       "      <td>3.000000</td>\n",
       "      <td>3.00000</td>\n",
       "      <td>...</td>\n",
       "      <td>3.000000</td>\n",
       "      <td>2.000000</td>\n",
       "      <td>33.00000</td>\n",
       "      <td>3.000000</td>\n",
       "      <td>2.000000</td>\n",
       "      <td>1.000000</td>\n",
       "      <td>3.000000</td>\n",
       "      <td>1.000000</td>\n",
       "      <td>1.000000</td>\n",
       "      <td>1.000000</td>\n",
       "    </tr>\n",
       "    <tr>\n",
       "      <th>75%</th>\n",
       "      <td>1.000000</td>\n",
       "      <td>4.000000</td>\n",
       "      <td>24.000000</td>\n",
       "      <td>4.00000</td>\n",
       "      <td>3.000000</td>\n",
       "      <td>3972.25000</td>\n",
       "      <td>3.000000</td>\n",
       "      <td>5.000000</td>\n",
       "      <td>4.000000</td>\n",
       "      <td>3.00000</td>\n",
       "      <td>...</td>\n",
       "      <td>4.000000</td>\n",
       "      <td>3.000000</td>\n",
       "      <td>42.00000</td>\n",
       "      <td>3.000000</td>\n",
       "      <td>2.000000</td>\n",
       "      <td>2.000000</td>\n",
       "      <td>3.000000</td>\n",
       "      <td>1.000000</td>\n",
       "      <td>2.000000</td>\n",
       "      <td>1.000000</td>\n",
       "    </tr>\n",
       "    <tr>\n",
       "      <th>max</th>\n",
       "      <td>1.000000</td>\n",
       "      <td>4.000000</td>\n",
       "      <td>72.000000</td>\n",
       "      <td>4.00000</td>\n",
       "      <td>10.000000</td>\n",
       "      <td>18424.00000</td>\n",
       "      <td>5.000000</td>\n",
       "      <td>5.000000</td>\n",
       "      <td>4.000000</td>\n",
       "      <td>4.00000</td>\n",
       "      <td>...</td>\n",
       "      <td>4.000000</td>\n",
       "      <td>4.000000</td>\n",
       "      <td>75.00000</td>\n",
       "      <td>3.000000</td>\n",
       "      <td>3.000000</td>\n",
       "      <td>4.000000</td>\n",
       "      <td>4.000000</td>\n",
       "      <td>2.000000</td>\n",
       "      <td>2.000000</td>\n",
       "      <td>2.000000</td>\n",
       "    </tr>\n",
       "  </tbody>\n",
       "</table>\n",
       "<p>8 rows × 21 columns</p>\n",
       "</div>"
      ],
      "text/plain": [
       "       Creditability  Status_of_existing_account  Duration_of_Credit_month  \\\n",
       "count    1000.000000                 1000.000000               1000.000000   \n",
       "mean        0.700000                    2.577000                 20.903000   \n",
       "std         0.458487                    1.257638                 12.058814   \n",
       "min         0.000000                    1.000000                  4.000000   \n",
       "25%         0.000000                    1.000000                 12.000000   \n",
       "50%         1.000000                    2.000000                 18.000000   \n",
       "75%         1.000000                    4.000000                 24.000000   \n",
       "max         1.000000                    4.000000                 72.000000   \n",
       "\n",
       "       Payment_Status_of_Previous_Credit(Credit_history)  Purpose_of_loan  \\\n",
       "count                                         1000.00000      1000.000000   \n",
       "mean                                             2.54500         2.828000   \n",
       "std                                              1.08312         2.744439   \n",
       "min                                              0.00000         0.000000   \n",
       "25%                                              2.00000         1.000000   \n",
       "50%                                              2.00000         2.000000   \n",
       "75%                                              4.00000         3.000000   \n",
       "max                                              4.00000        10.000000   \n",
       "\n",
       "       Credit_Amount  Value_of_Savings_account&bonds  \\\n",
       "count     1000.00000                     1000.000000   \n",
       "mean      3271.24800                        2.105000   \n",
       "std       2822.75176                        1.580023   \n",
       "min        250.00000                        1.000000   \n",
       "25%       1365.50000                        1.000000   \n",
       "50%       2319.50000                        1.000000   \n",
       "75%       3972.25000                        3.000000   \n",
       "max      18424.00000                        5.000000   \n",
       "\n",
       "       Years_of_Present_Employment  Percentage_of_disposable_income  \\\n",
       "count                  1000.000000                      1000.000000   \n",
       "mean                      3.384000                         2.973000   \n",
       "std                       1.208306                         1.118715   \n",
       "min                       1.000000                         1.000000   \n",
       "25%                       3.000000                         2.000000   \n",
       "50%                       3.000000                         3.000000   \n",
       "75%                       5.000000                         4.000000   \n",
       "max                       5.000000                         4.000000   \n",
       "\n",
       "       Sex_&_Marital_Status  ...  Duration_in_Present_Residence     Property  \\\n",
       "count            1000.00000  ...                    1000.000000  1000.000000   \n",
       "mean                2.68200  ...                       2.845000     2.358000   \n",
       "std                 0.70808  ...                       1.103718     1.050209   \n",
       "min                 1.00000  ...                       1.000000     1.000000   \n",
       "25%                 2.00000  ...                       2.000000     1.000000   \n",
       "50%                 3.00000  ...                       3.000000     2.000000   \n",
       "75%                 3.00000  ...                       4.000000     3.000000   \n",
       "max                 4.00000  ...                       4.000000     4.000000   \n",
       "\n",
       "       Age_in_years  Concurrent_Credits      Housing  \\\n",
       "count    1000.00000         1000.000000  1000.000000   \n",
       "mean       35.54200            2.675000     1.928000   \n",
       "std        11.35267            0.705601     0.530186   \n",
       "min        19.00000            1.000000     1.000000   \n",
       "25%        27.00000            3.000000     2.000000   \n",
       "50%        33.00000            3.000000     2.000000   \n",
       "75%        42.00000            3.000000     2.000000   \n",
       "max        75.00000            3.000000     3.000000   \n",
       "\n",
       "       No_of_Credits_at_this__Bank   Occupation  No_of_dependents  \\\n",
       "count                  1000.000000  1000.000000       1000.000000   \n",
       "mean                      1.407000     2.904000          1.155000   \n",
       "std                       0.577654     0.653614          0.362086   \n",
       "min                       1.000000     1.000000          1.000000   \n",
       "25%                       1.000000     3.000000          1.000000   \n",
       "50%                       1.000000     3.000000          1.000000   \n",
       "75%                       2.000000     3.000000          1.000000   \n",
       "max                       4.000000     4.000000          2.000000   \n",
       "\n",
       "         Telephone  Foreign_Worker  \n",
       "count  1000.000000     1000.000000  \n",
       "mean      1.404000        1.037000  \n",
       "std       0.490943        0.188856  \n",
       "min       1.000000        1.000000  \n",
       "25%       1.000000        1.000000  \n",
       "50%       1.000000        1.000000  \n",
       "75%       2.000000        1.000000  \n",
       "max       2.000000        2.000000  \n",
       "\n",
       "[8 rows x 21 columns]"
      ]
     },
     "execution_count": 10,
     "metadata": {},
     "output_type": "execute_result"
    }
   ],
   "source": [
    "#statistical summary\n",
    "df.describe()"
   ]
  },
  {
   "cell_type": "code",
   "execution_count": 14,
   "id": "02779da5-23d2-418a-9b44-78b6601856cd",
   "metadata": {},
   "outputs": [
    {
     "data": {
      "text/html": [
       "<div>\n",
       "<style scoped>\n",
       "    .dataframe tbody tr th:only-of-type {\n",
       "        vertical-align: middle;\n",
       "    }\n",
       "\n",
       "    .dataframe tbody tr th {\n",
       "        vertical-align: top;\n",
       "    }\n",
       "\n",
       "    .dataframe thead th {\n",
       "        text-align: right;\n",
       "    }\n",
       "</style>\n",
       "<table border=\"1\" class=\"dataframe\">\n",
       "  <thead>\n",
       "    <tr style=\"text-align: right;\">\n",
       "      <th></th>\n",
       "      <th>Creditability</th>\n",
       "      <th>Status_of_existing_account</th>\n",
       "      <th>Duration_of_Credit_month</th>\n",
       "      <th>Payment_Status_of_Previous_Credit(Credit_history)</th>\n",
       "      <th>Purpose_of_loan</th>\n",
       "      <th>Credit_Amount</th>\n",
       "      <th>Value_of_Savings_account&amp;bonds</th>\n",
       "      <th>Years_of_Present_Employment</th>\n",
       "      <th>Percentage_of_disposable_income</th>\n",
       "      <th>Sex_&amp;_Marital_Status</th>\n",
       "      <th>...</th>\n",
       "      <th>Duration_in_Present_Residence</th>\n",
       "      <th>Property</th>\n",
       "      <th>Age_in_years</th>\n",
       "      <th>Concurrent_Credits</th>\n",
       "      <th>Housing</th>\n",
       "      <th>No_of_Credits_at_this__Bank</th>\n",
       "      <th>Occupation</th>\n",
       "      <th>No_of_dependents</th>\n",
       "      <th>Telephone</th>\n",
       "      <th>Foreign_Worker</th>\n",
       "    </tr>\n",
       "  </thead>\n",
       "  <tbody>\n",
       "    <tr>\n",
       "      <th>Creditability</th>\n",
       "      <td>1.000000</td>\n",
       "      <td>0.350847</td>\n",
       "      <td>-0.214927</td>\n",
       "      <td>0.228785</td>\n",
       "      <td>-0.017979</td>\n",
       "      <td>-0.154740</td>\n",
       "      <td>0.178943</td>\n",
       "      <td>0.116002</td>\n",
       "      <td>-0.072404</td>\n",
       "      <td>0.088184</td>\n",
       "      <td>...</td>\n",
       "      <td>-0.002967</td>\n",
       "      <td>-0.142612</td>\n",
       "      <td>0.091272</td>\n",
       "      <td>0.109844</td>\n",
       "      <td>0.018119</td>\n",
       "      <td>0.045732</td>\n",
       "      <td>-0.032735</td>\n",
       "      <td>0.003015</td>\n",
       "      <td>0.036466</td>\n",
       "      <td>0.082079</td>\n",
       "    </tr>\n",
       "    <tr>\n",
       "      <th>Status_of_existing_account</th>\n",
       "      <td>0.350847</td>\n",
       "      <td>1.000000</td>\n",
       "      <td>-0.072013</td>\n",
       "      <td>0.192191</td>\n",
       "      <td>0.028783</td>\n",
       "      <td>-0.042695</td>\n",
       "      <td>0.222867</td>\n",
       "      <td>0.106339</td>\n",
       "      <td>-0.005280</td>\n",
       "      <td>0.043261</td>\n",
       "      <td>...</td>\n",
       "      <td>-0.042234</td>\n",
       "      <td>-0.032260</td>\n",
       "      <td>0.058631</td>\n",
       "      <td>0.068274</td>\n",
       "      <td>0.023335</td>\n",
       "      <td>0.076005</td>\n",
       "      <td>0.040663</td>\n",
       "      <td>-0.014145</td>\n",
       "      <td>0.066296</td>\n",
       "      <td>-0.035187</td>\n",
       "    </tr>\n",
       "    <tr>\n",
       "      <th>Duration_of_Credit_month</th>\n",
       "      <td>-0.214927</td>\n",
       "      <td>-0.072013</td>\n",
       "      <td>1.000000</td>\n",
       "      <td>-0.077186</td>\n",
       "      <td>0.147492</td>\n",
       "      <td>0.624988</td>\n",
       "      <td>0.047661</td>\n",
       "      <td>0.057381</td>\n",
       "      <td>0.074749</td>\n",
       "      <td>0.014789</td>\n",
       "      <td>...</td>\n",
       "      <td>0.034067</td>\n",
       "      <td>0.303971</td>\n",
       "      <td>-0.037550</td>\n",
       "      <td>-0.062884</td>\n",
       "      <td>0.153126</td>\n",
       "      <td>-0.011284</td>\n",
       "      <td>0.210910</td>\n",
       "      <td>-0.023834</td>\n",
       "      <td>0.164718</td>\n",
       "      <td>-0.134680</td>\n",
       "    </tr>\n",
       "    <tr>\n",
       "      <th>Payment_Status_of_Previous_Credit(Credit_history)</th>\n",
       "      <td>0.228785</td>\n",
       "      <td>0.192191</td>\n",
       "      <td>-0.077186</td>\n",
       "      <td>1.000000</td>\n",
       "      <td>-0.090336</td>\n",
       "      <td>-0.059915</td>\n",
       "      <td>0.039058</td>\n",
       "      <td>0.138225</td>\n",
       "      <td>0.044375</td>\n",
       "      <td>0.042171</td>\n",
       "      <td>...</td>\n",
       "      <td>0.063198</td>\n",
       "      <td>-0.053777</td>\n",
       "      <td>0.146337</td>\n",
       "      <td>0.159957</td>\n",
       "      <td>0.061428</td>\n",
       "      <td>0.437066</td>\n",
       "      <td>0.010350</td>\n",
       "      <td>0.011550</td>\n",
       "      <td>0.052370</td>\n",
       "      <td>0.028554</td>\n",
       "    </tr>\n",
       "    <tr>\n",
       "      <th>Purpose_of_loan</th>\n",
       "      <td>-0.017979</td>\n",
       "      <td>0.028783</td>\n",
       "      <td>0.147492</td>\n",
       "      <td>-0.090336</td>\n",
       "      <td>1.000000</td>\n",
       "      <td>0.068480</td>\n",
       "      <td>-0.018684</td>\n",
       "      <td>0.016013</td>\n",
       "      <td>0.048369</td>\n",
       "      <td>0.000157</td>\n",
       "      <td>...</td>\n",
       "      <td>-0.038221</td>\n",
       "      <td>0.010966</td>\n",
       "      <td>-0.000892</td>\n",
       "      <td>-0.100230</td>\n",
       "      <td>0.013495</td>\n",
       "      <td>0.054935</td>\n",
       "      <td>0.008085</td>\n",
       "      <td>-0.032577</td>\n",
       "      <td>0.078371</td>\n",
       "      <td>-0.113244</td>\n",
       "    </tr>\n",
       "    <tr>\n",
       "      <th>Credit_Amount</th>\n",
       "      <td>-0.154740</td>\n",
       "      <td>-0.042695</td>\n",
       "      <td>0.624988</td>\n",
       "      <td>-0.059915</td>\n",
       "      <td>0.068480</td>\n",
       "      <td>1.000000</td>\n",
       "      <td>0.064632</td>\n",
       "      <td>-0.008376</td>\n",
       "      <td>-0.271322</td>\n",
       "      <td>-0.016094</td>\n",
       "      <td>...</td>\n",
       "      <td>0.028917</td>\n",
       "      <td>0.311602</td>\n",
       "      <td>0.032273</td>\n",
       "      <td>-0.069392</td>\n",
       "      <td>0.133024</td>\n",
       "      <td>0.020785</td>\n",
       "      <td>0.285393</td>\n",
       "      <td>0.017144</td>\n",
       "      <td>0.277000</td>\n",
       "      <td>-0.030662</td>\n",
       "    </tr>\n",
       "    <tr>\n",
       "      <th>Value_of_Savings_account&amp;bonds</th>\n",
       "      <td>0.178943</td>\n",
       "      <td>0.222867</td>\n",
       "      <td>0.047661</td>\n",
       "      <td>0.039058</td>\n",
       "      <td>-0.018684</td>\n",
       "      <td>0.064632</td>\n",
       "      <td>1.000000</td>\n",
       "      <td>0.120950</td>\n",
       "      <td>0.021993</td>\n",
       "      <td>0.017349</td>\n",
       "      <td>...</td>\n",
       "      <td>0.091424</td>\n",
       "      <td>0.018948</td>\n",
       "      <td>0.083434</td>\n",
       "      <td>0.001908</td>\n",
       "      <td>0.006644</td>\n",
       "      <td>-0.021644</td>\n",
       "      <td>0.011709</td>\n",
       "      <td>0.027514</td>\n",
       "      <td>0.087208</td>\n",
       "      <td>0.010450</td>\n",
       "    </tr>\n",
       "    <tr>\n",
       "      <th>Years_of_Present_Employment</th>\n",
       "      <td>0.116002</td>\n",
       "      <td>0.106339</td>\n",
       "      <td>0.057381</td>\n",
       "      <td>0.138225</td>\n",
       "      <td>0.016013</td>\n",
       "      <td>-0.008376</td>\n",
       "      <td>0.120950</td>\n",
       "      <td>1.000000</td>\n",
       "      <td>0.126161</td>\n",
       "      <td>0.111278</td>\n",
       "      <td>...</td>\n",
       "      <td>0.245081</td>\n",
       "      <td>0.087187</td>\n",
       "      <td>0.259116</td>\n",
       "      <td>-0.007279</td>\n",
       "      <td>0.115077</td>\n",
       "      <td>0.125791</td>\n",
       "      <td>0.101225</td>\n",
       "      <td>0.097192</td>\n",
       "      <td>0.060518</td>\n",
       "      <td>-0.022845</td>\n",
       "    </tr>\n",
       "    <tr>\n",
       "      <th>Percentage_of_disposable_income</th>\n",
       "      <td>-0.072404</td>\n",
       "      <td>-0.005280</td>\n",
       "      <td>0.074749</td>\n",
       "      <td>0.044375</td>\n",
       "      <td>0.048369</td>\n",
       "      <td>-0.271322</td>\n",
       "      <td>0.021993</td>\n",
       "      <td>0.126161</td>\n",
       "      <td>1.000000</td>\n",
       "      <td>0.119308</td>\n",
       "      <td>...</td>\n",
       "      <td>0.049302</td>\n",
       "      <td>0.053391</td>\n",
       "      <td>0.057271</td>\n",
       "      <td>0.007894</td>\n",
       "      <td>0.091229</td>\n",
       "      <td>0.021669</td>\n",
       "      <td>0.097755</td>\n",
       "      <td>-0.071207</td>\n",
       "      <td>0.014413</td>\n",
       "      <td>-0.094762</td>\n",
       "    </tr>\n",
       "    <tr>\n",
       "      <th>Sex_&amp;_Marital_Status</th>\n",
       "      <td>0.088184</td>\n",
       "      <td>0.043261</td>\n",
       "      <td>0.014789</td>\n",
       "      <td>0.042171</td>\n",
       "      <td>0.000157</td>\n",
       "      <td>-0.016094</td>\n",
       "      <td>0.017349</td>\n",
       "      <td>0.111278</td>\n",
       "      <td>0.119308</td>\n",
       "      <td>1.000000</td>\n",
       "      <td>...</td>\n",
       "      <td>-0.027269</td>\n",
       "      <td>-0.006940</td>\n",
       "      <td>0.005150</td>\n",
       "      <td>-0.026747</td>\n",
       "      <td>0.098934</td>\n",
       "      <td>0.064672</td>\n",
       "      <td>-0.011956</td>\n",
       "      <td>0.122165</td>\n",
       "      <td>0.027275</td>\n",
       "      <td>0.073103</td>\n",
       "    </tr>\n",
       "    <tr>\n",
       "      <th>Guarantors/Debtors</th>\n",
       "      <td>0.025137</td>\n",
       "      <td>-0.127737</td>\n",
       "      <td>-0.024490</td>\n",
       "      <td>-0.040676</td>\n",
       "      <td>-0.017607</td>\n",
       "      <td>-0.027831</td>\n",
       "      <td>-0.105069</td>\n",
       "      <td>-0.008116</td>\n",
       "      <td>-0.011398</td>\n",
       "      <td>0.050634</td>\n",
       "      <td>...</td>\n",
       "      <td>-0.025678</td>\n",
       "      <td>-0.155450</td>\n",
       "      <td>-0.029826</td>\n",
       "      <td>-0.038235</td>\n",
       "      <td>-0.065449</td>\n",
       "      <td>-0.025447</td>\n",
       "      <td>-0.057963</td>\n",
       "      <td>0.020400</td>\n",
       "      <td>-0.075035</td>\n",
       "      <td>0.140190</td>\n",
       "    </tr>\n",
       "    <tr>\n",
       "      <th>Duration_in_Present_Residence</th>\n",
       "      <td>-0.002967</td>\n",
       "      <td>-0.042234</td>\n",
       "      <td>0.034067</td>\n",
       "      <td>0.063198</td>\n",
       "      <td>-0.038221</td>\n",
       "      <td>0.028917</td>\n",
       "      <td>0.091424</td>\n",
       "      <td>0.245081</td>\n",
       "      <td>0.049302</td>\n",
       "      <td>-0.027269</td>\n",
       "      <td>...</td>\n",
       "      <td>1.000000</td>\n",
       "      <td>0.147231</td>\n",
       "      <td>0.265626</td>\n",
       "      <td>0.022654</td>\n",
       "      <td>0.009990</td>\n",
       "      <td>0.089625</td>\n",
       "      <td>0.012655</td>\n",
       "      <td>0.042643</td>\n",
       "      <td>0.095359</td>\n",
       "      <td>-0.039691</td>\n",
       "    </tr>\n",
       "    <tr>\n",
       "      <th>Property</th>\n",
       "      <td>-0.142612</td>\n",
       "      <td>-0.032260</td>\n",
       "      <td>0.303971</td>\n",
       "      <td>-0.053777</td>\n",
       "      <td>0.010966</td>\n",
       "      <td>0.311602</td>\n",
       "      <td>0.018948</td>\n",
       "      <td>0.087187</td>\n",
       "      <td>0.053391</td>\n",
       "      <td>-0.006940</td>\n",
       "      <td>...</td>\n",
       "      <td>0.147231</td>\n",
       "      <td>1.000000</td>\n",
       "      <td>0.074551</td>\n",
       "      <td>-0.107593</td>\n",
       "      <td>0.342969</td>\n",
       "      <td>-0.007765</td>\n",
       "      <td>0.276149</td>\n",
       "      <td>0.011872</td>\n",
       "      <td>0.196802</td>\n",
       "      <td>-0.132462</td>\n",
       "    </tr>\n",
       "    <tr>\n",
       "      <th>Age_in_years</th>\n",
       "      <td>0.091272</td>\n",
       "      <td>0.058631</td>\n",
       "      <td>-0.037550</td>\n",
       "      <td>0.146337</td>\n",
       "      <td>-0.000892</td>\n",
       "      <td>0.032273</td>\n",
       "      <td>0.083434</td>\n",
       "      <td>0.259116</td>\n",
       "      <td>0.057271</td>\n",
       "      <td>0.005150</td>\n",
       "      <td>...</td>\n",
       "      <td>0.265626</td>\n",
       "      <td>0.074551</td>\n",
       "      <td>1.000000</td>\n",
       "      <td>-0.030472</td>\n",
       "      <td>0.303346</td>\n",
       "      <td>0.150718</td>\n",
       "      <td>0.015383</td>\n",
       "      <td>0.118589</td>\n",
       "      <td>0.143506</td>\n",
       "      <td>0.013981</td>\n",
       "    </tr>\n",
       "    <tr>\n",
       "      <th>Concurrent_Credits</th>\n",
       "      <td>0.109844</td>\n",
       "      <td>0.068274</td>\n",
       "      <td>-0.062884</td>\n",
       "      <td>0.159957</td>\n",
       "      <td>-0.100230</td>\n",
       "      <td>-0.069392</td>\n",
       "      <td>0.001908</td>\n",
       "      <td>-0.007279</td>\n",
       "      <td>0.007894</td>\n",
       "      <td>-0.026747</td>\n",
       "      <td>...</td>\n",
       "      <td>0.022654</td>\n",
       "      <td>-0.107593</td>\n",
       "      <td>-0.030472</td>\n",
       "      <td>1.000000</td>\n",
       "      <td>-0.097398</td>\n",
       "      <td>-0.055810</td>\n",
       "      <td>0.006077</td>\n",
       "      <td>-0.076891</td>\n",
       "      <td>-0.025140</td>\n",
       "      <td>0.007700</td>\n",
       "    </tr>\n",
       "    <tr>\n",
       "      <th>Housing</th>\n",
       "      <td>0.018119</td>\n",
       "      <td>0.023335</td>\n",
       "      <td>0.153126</td>\n",
       "      <td>0.061428</td>\n",
       "      <td>0.013495</td>\n",
       "      <td>0.133024</td>\n",
       "      <td>0.006644</td>\n",
       "      <td>0.115077</td>\n",
       "      <td>0.091229</td>\n",
       "      <td>0.098934</td>\n",
       "      <td>...</td>\n",
       "      <td>0.009990</td>\n",
       "      <td>0.342969</td>\n",
       "      <td>0.303346</td>\n",
       "      <td>-0.097398</td>\n",
       "      <td>1.000000</td>\n",
       "      <td>0.050020</td>\n",
       "      <td>0.104243</td>\n",
       "      <td>0.115549</td>\n",
       "      <td>0.100327</td>\n",
       "      <td>-0.083336</td>\n",
       "    </tr>\n",
       "    <tr>\n",
       "      <th>No_of_Credits_at_this__Bank</th>\n",
       "      <td>0.045732</td>\n",
       "      <td>0.076005</td>\n",
       "      <td>-0.011284</td>\n",
       "      <td>0.437066</td>\n",
       "      <td>0.054935</td>\n",
       "      <td>0.020785</td>\n",
       "      <td>-0.021644</td>\n",
       "      <td>0.125791</td>\n",
       "      <td>0.021669</td>\n",
       "      <td>0.064672</td>\n",
       "      <td>...</td>\n",
       "      <td>0.089625</td>\n",
       "      <td>-0.007765</td>\n",
       "      <td>0.150718</td>\n",
       "      <td>-0.055810</td>\n",
       "      <td>0.050020</td>\n",
       "      <td>1.000000</td>\n",
       "      <td>-0.026321</td>\n",
       "      <td>0.109667</td>\n",
       "      <td>0.065553</td>\n",
       "      <td>-0.018893</td>\n",
       "    </tr>\n",
       "    <tr>\n",
       "      <th>Occupation</th>\n",
       "      <td>-0.032735</td>\n",
       "      <td>0.040663</td>\n",
       "      <td>0.210910</td>\n",
       "      <td>0.010350</td>\n",
       "      <td>0.008085</td>\n",
       "      <td>0.285393</td>\n",
       "      <td>0.011709</td>\n",
       "      <td>0.101225</td>\n",
       "      <td>0.097755</td>\n",
       "      <td>-0.011956</td>\n",
       "      <td>...</td>\n",
       "      <td>0.012655</td>\n",
       "      <td>0.276149</td>\n",
       "      <td>0.015383</td>\n",
       "      <td>0.006077</td>\n",
       "      <td>0.104243</td>\n",
       "      <td>-0.026321</td>\n",
       "      <td>1.000000</td>\n",
       "      <td>-0.093559</td>\n",
       "      <td>0.383022</td>\n",
       "      <td>-0.092835</td>\n",
       "    </tr>\n",
       "    <tr>\n",
       "      <th>No_of_dependents</th>\n",
       "      <td>0.003015</td>\n",
       "      <td>-0.014145</td>\n",
       "      <td>-0.023834</td>\n",
       "      <td>0.011550</td>\n",
       "      <td>-0.032577</td>\n",
       "      <td>0.017144</td>\n",
       "      <td>0.027514</td>\n",
       "      <td>0.097192</td>\n",
       "      <td>-0.071207</td>\n",
       "      <td>0.122165</td>\n",
       "      <td>...</td>\n",
       "      <td>0.042643</td>\n",
       "      <td>0.011872</td>\n",
       "      <td>0.118589</td>\n",
       "      <td>-0.076891</td>\n",
       "      <td>0.115549</td>\n",
       "      <td>0.109667</td>\n",
       "      <td>-0.093559</td>\n",
       "      <td>1.000000</td>\n",
       "      <td>-0.014753</td>\n",
       "      <td>0.077071</td>\n",
       "    </tr>\n",
       "    <tr>\n",
       "      <th>Telephone</th>\n",
       "      <td>0.036466</td>\n",
       "      <td>0.066296</td>\n",
       "      <td>0.164718</td>\n",
       "      <td>0.052370</td>\n",
       "      <td>0.078371</td>\n",
       "      <td>0.277000</td>\n",
       "      <td>0.087208</td>\n",
       "      <td>0.060518</td>\n",
       "      <td>0.014413</td>\n",
       "      <td>0.027275</td>\n",
       "      <td>...</td>\n",
       "      <td>0.095359</td>\n",
       "      <td>0.196802</td>\n",
       "      <td>0.143506</td>\n",
       "      <td>-0.025140</td>\n",
       "      <td>0.100327</td>\n",
       "      <td>0.065553</td>\n",
       "      <td>0.383022</td>\n",
       "      <td>-0.014753</td>\n",
       "      <td>1.000000</td>\n",
       "      <td>-0.075012</td>\n",
       "    </tr>\n",
       "    <tr>\n",
       "      <th>Foreign_Worker</th>\n",
       "      <td>0.082079</td>\n",
       "      <td>-0.035187</td>\n",
       "      <td>-0.134680</td>\n",
       "      <td>0.028554</td>\n",
       "      <td>-0.113244</td>\n",
       "      <td>-0.030662</td>\n",
       "      <td>0.010450</td>\n",
       "      <td>-0.022845</td>\n",
       "      <td>-0.094762</td>\n",
       "      <td>0.073103</td>\n",
       "      <td>...</td>\n",
       "      <td>-0.039691</td>\n",
       "      <td>-0.132462</td>\n",
       "      <td>0.013981</td>\n",
       "      <td>0.007700</td>\n",
       "      <td>-0.083336</td>\n",
       "      <td>-0.018893</td>\n",
       "      <td>-0.092835</td>\n",
       "      <td>0.077071</td>\n",
       "      <td>-0.075012</td>\n",
       "      <td>1.000000</td>\n",
       "    </tr>\n",
       "  </tbody>\n",
       "</table>\n",
       "<p>21 rows × 21 columns</p>\n",
       "</div>"
      ],
      "text/plain": [
       "                                                   Creditability  \\\n",
       "Creditability                                           1.000000   \n",
       "Status_of_existing_account                              0.350847   \n",
       "Duration_of_Credit_month                               -0.214927   \n",
       "Payment_Status_of_Previous_Credit(Credit_history)       0.228785   \n",
       "Purpose_of_loan                                        -0.017979   \n",
       "Credit_Amount                                          -0.154740   \n",
       "Value_of_Savings_account&bonds                          0.178943   \n",
       "Years_of_Present_Employment                             0.116002   \n",
       "Percentage_of_disposable_income                        -0.072404   \n",
       "Sex_&_Marital_Status                                    0.088184   \n",
       "Guarantors/Debtors                                      0.025137   \n",
       "Duration_in_Present_Residence                          -0.002967   \n",
       "Property                                               -0.142612   \n",
       "Age_in_years                                            0.091272   \n",
       "Concurrent_Credits                                      0.109844   \n",
       "Housing                                                 0.018119   \n",
       "No_of_Credits_at_this__Bank                             0.045732   \n",
       "Occupation                                             -0.032735   \n",
       "No_of_dependents                                        0.003015   \n",
       "Telephone                                               0.036466   \n",
       "Foreign_Worker                                          0.082079   \n",
       "\n",
       "                                                   Status_of_existing_account  \\\n",
       "Creditability                                                        0.350847   \n",
       "Status_of_existing_account                                           1.000000   \n",
       "Duration_of_Credit_month                                            -0.072013   \n",
       "Payment_Status_of_Previous_Credit(Credit_history)                    0.192191   \n",
       "Purpose_of_loan                                                      0.028783   \n",
       "Credit_Amount                                                       -0.042695   \n",
       "Value_of_Savings_account&bonds                                       0.222867   \n",
       "Years_of_Present_Employment                                          0.106339   \n",
       "Percentage_of_disposable_income                                     -0.005280   \n",
       "Sex_&_Marital_Status                                                 0.043261   \n",
       "Guarantors/Debtors                                                  -0.127737   \n",
       "Duration_in_Present_Residence                                       -0.042234   \n",
       "Property                                                            -0.032260   \n",
       "Age_in_years                                                         0.058631   \n",
       "Concurrent_Credits                                                   0.068274   \n",
       "Housing                                                              0.023335   \n",
       "No_of_Credits_at_this__Bank                                          0.076005   \n",
       "Occupation                                                           0.040663   \n",
       "No_of_dependents                                                    -0.014145   \n",
       "Telephone                                                            0.066296   \n",
       "Foreign_Worker                                                      -0.035187   \n",
       "\n",
       "                                                   Duration_of_Credit_month  \\\n",
       "Creditability                                                     -0.214927   \n",
       "Status_of_existing_account                                        -0.072013   \n",
       "Duration_of_Credit_month                                           1.000000   \n",
       "Payment_Status_of_Previous_Credit(Credit_history)                 -0.077186   \n",
       "Purpose_of_loan                                                    0.147492   \n",
       "Credit_Amount                                                      0.624988   \n",
       "Value_of_Savings_account&bonds                                     0.047661   \n",
       "Years_of_Present_Employment                                        0.057381   \n",
       "Percentage_of_disposable_income                                    0.074749   \n",
       "Sex_&_Marital_Status                                               0.014789   \n",
       "Guarantors/Debtors                                                -0.024490   \n",
       "Duration_in_Present_Residence                                      0.034067   \n",
       "Property                                                           0.303971   \n",
       "Age_in_years                                                      -0.037550   \n",
       "Concurrent_Credits                                                -0.062884   \n",
       "Housing                                                            0.153126   \n",
       "No_of_Credits_at_this__Bank                                       -0.011284   \n",
       "Occupation                                                         0.210910   \n",
       "No_of_dependents                                                  -0.023834   \n",
       "Telephone                                                          0.164718   \n",
       "Foreign_Worker                                                    -0.134680   \n",
       "\n",
       "                                                   Payment_Status_of_Previous_Credit(Credit_history)  \\\n",
       "Creditability                                                                               0.228785   \n",
       "Status_of_existing_account                                                                  0.192191   \n",
       "Duration_of_Credit_month                                                                   -0.077186   \n",
       "Payment_Status_of_Previous_Credit(Credit_history)                                           1.000000   \n",
       "Purpose_of_loan                                                                            -0.090336   \n",
       "Credit_Amount                                                                              -0.059915   \n",
       "Value_of_Savings_account&bonds                                                              0.039058   \n",
       "Years_of_Present_Employment                                                                 0.138225   \n",
       "Percentage_of_disposable_income                                                             0.044375   \n",
       "Sex_&_Marital_Status                                                                        0.042171   \n",
       "Guarantors/Debtors                                                                         -0.040676   \n",
       "Duration_in_Present_Residence                                                               0.063198   \n",
       "Property                                                                                   -0.053777   \n",
       "Age_in_years                                                                                0.146337   \n",
       "Concurrent_Credits                                                                          0.159957   \n",
       "Housing                                                                                     0.061428   \n",
       "No_of_Credits_at_this__Bank                                                                 0.437066   \n",
       "Occupation                                                                                  0.010350   \n",
       "No_of_dependents                                                                            0.011550   \n",
       "Telephone                                                                                   0.052370   \n",
       "Foreign_Worker                                                                              0.028554   \n",
       "\n",
       "                                                   Purpose_of_loan  \\\n",
       "Creditability                                            -0.017979   \n",
       "Status_of_existing_account                                0.028783   \n",
       "Duration_of_Credit_month                                  0.147492   \n",
       "Payment_Status_of_Previous_Credit(Credit_history)        -0.090336   \n",
       "Purpose_of_loan                                           1.000000   \n",
       "Credit_Amount                                             0.068480   \n",
       "Value_of_Savings_account&bonds                           -0.018684   \n",
       "Years_of_Present_Employment                               0.016013   \n",
       "Percentage_of_disposable_income                           0.048369   \n",
       "Sex_&_Marital_Status                                      0.000157   \n",
       "Guarantors/Debtors                                       -0.017607   \n",
       "Duration_in_Present_Residence                            -0.038221   \n",
       "Property                                                  0.010966   \n",
       "Age_in_years                                             -0.000892   \n",
       "Concurrent_Credits                                       -0.100230   \n",
       "Housing                                                   0.013495   \n",
       "No_of_Credits_at_this__Bank                               0.054935   \n",
       "Occupation                                                0.008085   \n",
       "No_of_dependents                                         -0.032577   \n",
       "Telephone                                                 0.078371   \n",
       "Foreign_Worker                                           -0.113244   \n",
       "\n",
       "                                                   Credit_Amount  \\\n",
       "Creditability                                          -0.154740   \n",
       "Status_of_existing_account                             -0.042695   \n",
       "Duration_of_Credit_month                                0.624988   \n",
       "Payment_Status_of_Previous_Credit(Credit_history)      -0.059915   \n",
       "Purpose_of_loan                                         0.068480   \n",
       "Credit_Amount                                           1.000000   \n",
       "Value_of_Savings_account&bonds                          0.064632   \n",
       "Years_of_Present_Employment                            -0.008376   \n",
       "Percentage_of_disposable_income                        -0.271322   \n",
       "Sex_&_Marital_Status                                   -0.016094   \n",
       "Guarantors/Debtors                                     -0.027831   \n",
       "Duration_in_Present_Residence                           0.028917   \n",
       "Property                                                0.311602   \n",
       "Age_in_years                                            0.032273   \n",
       "Concurrent_Credits                                     -0.069392   \n",
       "Housing                                                 0.133024   \n",
       "No_of_Credits_at_this__Bank                             0.020785   \n",
       "Occupation                                              0.285393   \n",
       "No_of_dependents                                        0.017144   \n",
       "Telephone                                               0.277000   \n",
       "Foreign_Worker                                         -0.030662   \n",
       "\n",
       "                                                   Value_of_Savings_account&bonds  \\\n",
       "Creditability                                                            0.178943   \n",
       "Status_of_existing_account                                               0.222867   \n",
       "Duration_of_Credit_month                                                 0.047661   \n",
       "Payment_Status_of_Previous_Credit(Credit_history)                        0.039058   \n",
       "Purpose_of_loan                                                         -0.018684   \n",
       "Credit_Amount                                                            0.064632   \n",
       "Value_of_Savings_account&bonds                                           1.000000   \n",
       "Years_of_Present_Employment                                              0.120950   \n",
       "Percentage_of_disposable_income                                          0.021993   \n",
       "Sex_&_Marital_Status                                                     0.017349   \n",
       "Guarantors/Debtors                                                      -0.105069   \n",
       "Duration_in_Present_Residence                                            0.091424   \n",
       "Property                                                                 0.018948   \n",
       "Age_in_years                                                             0.083434   \n",
       "Concurrent_Credits                                                       0.001908   \n",
       "Housing                                                                  0.006644   \n",
       "No_of_Credits_at_this__Bank                                             -0.021644   \n",
       "Occupation                                                               0.011709   \n",
       "No_of_dependents                                                         0.027514   \n",
       "Telephone                                                                0.087208   \n",
       "Foreign_Worker                                                           0.010450   \n",
       "\n",
       "                                                   Years_of_Present_Employment  \\\n",
       "Creditability                                                         0.116002   \n",
       "Status_of_existing_account                                            0.106339   \n",
       "Duration_of_Credit_month                                              0.057381   \n",
       "Payment_Status_of_Previous_Credit(Credit_history)                     0.138225   \n",
       "Purpose_of_loan                                                       0.016013   \n",
       "Credit_Amount                                                        -0.008376   \n",
       "Value_of_Savings_account&bonds                                        0.120950   \n",
       "Years_of_Present_Employment                                           1.000000   \n",
       "Percentage_of_disposable_income                                       0.126161   \n",
       "Sex_&_Marital_Status                                                  0.111278   \n",
       "Guarantors/Debtors                                                   -0.008116   \n",
       "Duration_in_Present_Residence                                         0.245081   \n",
       "Property                                                              0.087187   \n",
       "Age_in_years                                                          0.259116   \n",
       "Concurrent_Credits                                                   -0.007279   \n",
       "Housing                                                               0.115077   \n",
       "No_of_Credits_at_this__Bank                                           0.125791   \n",
       "Occupation                                                            0.101225   \n",
       "No_of_dependents                                                      0.097192   \n",
       "Telephone                                                             0.060518   \n",
       "Foreign_Worker                                                       -0.022845   \n",
       "\n",
       "                                                   Percentage_of_disposable_income  \\\n",
       "Creditability                                                            -0.072404   \n",
       "Status_of_existing_account                                               -0.005280   \n",
       "Duration_of_Credit_month                                                  0.074749   \n",
       "Payment_Status_of_Previous_Credit(Credit_history)                         0.044375   \n",
       "Purpose_of_loan                                                           0.048369   \n",
       "Credit_Amount                                                            -0.271322   \n",
       "Value_of_Savings_account&bonds                                            0.021993   \n",
       "Years_of_Present_Employment                                               0.126161   \n",
       "Percentage_of_disposable_income                                           1.000000   \n",
       "Sex_&_Marital_Status                                                      0.119308   \n",
       "Guarantors/Debtors                                                       -0.011398   \n",
       "Duration_in_Present_Residence                                             0.049302   \n",
       "Property                                                                  0.053391   \n",
       "Age_in_years                                                              0.057271   \n",
       "Concurrent_Credits                                                        0.007894   \n",
       "Housing                                                                   0.091229   \n",
       "No_of_Credits_at_this__Bank                                               0.021669   \n",
       "Occupation                                                                0.097755   \n",
       "No_of_dependents                                                         -0.071207   \n",
       "Telephone                                                                 0.014413   \n",
       "Foreign_Worker                                                           -0.094762   \n",
       "\n",
       "                                                   Sex_&_Marital_Status  ...  \\\n",
       "Creditability                                                  0.088184  ...   \n",
       "Status_of_existing_account                                     0.043261  ...   \n",
       "Duration_of_Credit_month                                       0.014789  ...   \n",
       "Payment_Status_of_Previous_Credit(Credit_history)              0.042171  ...   \n",
       "Purpose_of_loan                                                0.000157  ...   \n",
       "Credit_Amount                                                 -0.016094  ...   \n",
       "Value_of_Savings_account&bonds                                 0.017349  ...   \n",
       "Years_of_Present_Employment                                    0.111278  ...   \n",
       "Percentage_of_disposable_income                                0.119308  ...   \n",
       "Sex_&_Marital_Status                                           1.000000  ...   \n",
       "Guarantors/Debtors                                             0.050634  ...   \n",
       "Duration_in_Present_Residence                                 -0.027269  ...   \n",
       "Property                                                      -0.006940  ...   \n",
       "Age_in_years                                                   0.005150  ...   \n",
       "Concurrent_Credits                                            -0.026747  ...   \n",
       "Housing                                                        0.098934  ...   \n",
       "No_of_Credits_at_this__Bank                                    0.064672  ...   \n",
       "Occupation                                                    -0.011956  ...   \n",
       "No_of_dependents                                               0.122165  ...   \n",
       "Telephone                                                      0.027275  ...   \n",
       "Foreign_Worker                                                 0.073103  ...   \n",
       "\n",
       "                                                   Duration_in_Present_Residence  \\\n",
       "Creditability                                                          -0.002967   \n",
       "Status_of_existing_account                                             -0.042234   \n",
       "Duration_of_Credit_month                                                0.034067   \n",
       "Payment_Status_of_Previous_Credit(Credit_history)                       0.063198   \n",
       "Purpose_of_loan                                                        -0.038221   \n",
       "Credit_Amount                                                           0.028917   \n",
       "Value_of_Savings_account&bonds                                          0.091424   \n",
       "Years_of_Present_Employment                                             0.245081   \n",
       "Percentage_of_disposable_income                                         0.049302   \n",
       "Sex_&_Marital_Status                                                   -0.027269   \n",
       "Guarantors/Debtors                                                     -0.025678   \n",
       "Duration_in_Present_Residence                                           1.000000   \n",
       "Property                                                                0.147231   \n",
       "Age_in_years                                                            0.265626   \n",
       "Concurrent_Credits                                                      0.022654   \n",
       "Housing                                                                 0.009990   \n",
       "No_of_Credits_at_this__Bank                                             0.089625   \n",
       "Occupation                                                              0.012655   \n",
       "No_of_dependents                                                        0.042643   \n",
       "Telephone                                                               0.095359   \n",
       "Foreign_Worker                                                         -0.039691   \n",
       "\n",
       "                                                   Property  Age_in_years  \\\n",
       "Creditability                                     -0.142612      0.091272   \n",
       "Status_of_existing_account                        -0.032260      0.058631   \n",
       "Duration_of_Credit_month                           0.303971     -0.037550   \n",
       "Payment_Status_of_Previous_Credit(Credit_history) -0.053777      0.146337   \n",
       "Purpose_of_loan                                    0.010966     -0.000892   \n",
       "Credit_Amount                                      0.311602      0.032273   \n",
       "Value_of_Savings_account&bonds                     0.018948      0.083434   \n",
       "Years_of_Present_Employment                        0.087187      0.259116   \n",
       "Percentage_of_disposable_income                    0.053391      0.057271   \n",
       "Sex_&_Marital_Status                              -0.006940      0.005150   \n",
       "Guarantors/Debtors                                -0.155450     -0.029826   \n",
       "Duration_in_Present_Residence                      0.147231      0.265626   \n",
       "Property                                           1.000000      0.074551   \n",
       "Age_in_years                                       0.074551      1.000000   \n",
       "Concurrent_Credits                                -0.107593     -0.030472   \n",
       "Housing                                            0.342969      0.303346   \n",
       "No_of_Credits_at_this__Bank                       -0.007765      0.150718   \n",
       "Occupation                                         0.276149      0.015383   \n",
       "No_of_dependents                                   0.011872      0.118589   \n",
       "Telephone                                          0.196802      0.143506   \n",
       "Foreign_Worker                                    -0.132462      0.013981   \n",
       "\n",
       "                                                   Concurrent_Credits  \\\n",
       "Creditability                                                0.109844   \n",
       "Status_of_existing_account                                   0.068274   \n",
       "Duration_of_Credit_month                                    -0.062884   \n",
       "Payment_Status_of_Previous_Credit(Credit_history)            0.159957   \n",
       "Purpose_of_loan                                             -0.100230   \n",
       "Credit_Amount                                               -0.069392   \n",
       "Value_of_Savings_account&bonds                               0.001908   \n",
       "Years_of_Present_Employment                                 -0.007279   \n",
       "Percentage_of_disposable_income                              0.007894   \n",
       "Sex_&_Marital_Status                                        -0.026747   \n",
       "Guarantors/Debtors                                          -0.038235   \n",
       "Duration_in_Present_Residence                                0.022654   \n",
       "Property                                                    -0.107593   \n",
       "Age_in_years                                                -0.030472   \n",
       "Concurrent_Credits                                           1.000000   \n",
       "Housing                                                     -0.097398   \n",
       "No_of_Credits_at_this__Bank                                 -0.055810   \n",
       "Occupation                                                   0.006077   \n",
       "No_of_dependents                                            -0.076891   \n",
       "Telephone                                                   -0.025140   \n",
       "Foreign_Worker                                               0.007700   \n",
       "\n",
       "                                                    Housing  \\\n",
       "Creditability                                      0.018119   \n",
       "Status_of_existing_account                         0.023335   \n",
       "Duration_of_Credit_month                           0.153126   \n",
       "Payment_Status_of_Previous_Credit(Credit_history)  0.061428   \n",
       "Purpose_of_loan                                    0.013495   \n",
       "Credit_Amount                                      0.133024   \n",
       "Value_of_Savings_account&bonds                     0.006644   \n",
       "Years_of_Present_Employment                        0.115077   \n",
       "Percentage_of_disposable_income                    0.091229   \n",
       "Sex_&_Marital_Status                               0.098934   \n",
       "Guarantors/Debtors                                -0.065449   \n",
       "Duration_in_Present_Residence                      0.009990   \n",
       "Property                                           0.342969   \n",
       "Age_in_years                                       0.303346   \n",
       "Concurrent_Credits                                -0.097398   \n",
       "Housing                                            1.000000   \n",
       "No_of_Credits_at_this__Bank                        0.050020   \n",
       "Occupation                                         0.104243   \n",
       "No_of_dependents                                   0.115549   \n",
       "Telephone                                          0.100327   \n",
       "Foreign_Worker                                    -0.083336   \n",
       "\n",
       "                                                   No_of_Credits_at_this__Bank  \\\n",
       "Creditability                                                         0.045732   \n",
       "Status_of_existing_account                                            0.076005   \n",
       "Duration_of_Credit_month                                             -0.011284   \n",
       "Payment_Status_of_Previous_Credit(Credit_history)                     0.437066   \n",
       "Purpose_of_loan                                                       0.054935   \n",
       "Credit_Amount                                                         0.020785   \n",
       "Value_of_Savings_account&bonds                                       -0.021644   \n",
       "Years_of_Present_Employment                                           0.125791   \n",
       "Percentage_of_disposable_income                                       0.021669   \n",
       "Sex_&_Marital_Status                                                  0.064672   \n",
       "Guarantors/Debtors                                                   -0.025447   \n",
       "Duration_in_Present_Residence                                         0.089625   \n",
       "Property                                                             -0.007765   \n",
       "Age_in_years                                                          0.150718   \n",
       "Concurrent_Credits                                                   -0.055810   \n",
       "Housing                                                               0.050020   \n",
       "No_of_Credits_at_this__Bank                                           1.000000   \n",
       "Occupation                                                           -0.026321   \n",
       "No_of_dependents                                                      0.109667   \n",
       "Telephone                                                             0.065553   \n",
       "Foreign_Worker                                                       -0.018893   \n",
       "\n",
       "                                                   Occupation  \\\n",
       "Creditability                                       -0.032735   \n",
       "Status_of_existing_account                           0.040663   \n",
       "Duration_of_Credit_month                             0.210910   \n",
       "Payment_Status_of_Previous_Credit(Credit_history)    0.010350   \n",
       "Purpose_of_loan                                      0.008085   \n",
       "Credit_Amount                                        0.285393   \n",
       "Value_of_Savings_account&bonds                       0.011709   \n",
       "Years_of_Present_Employment                          0.101225   \n",
       "Percentage_of_disposable_income                      0.097755   \n",
       "Sex_&_Marital_Status                                -0.011956   \n",
       "Guarantors/Debtors                                  -0.057963   \n",
       "Duration_in_Present_Residence                        0.012655   \n",
       "Property                                             0.276149   \n",
       "Age_in_years                                         0.015383   \n",
       "Concurrent_Credits                                   0.006077   \n",
       "Housing                                              0.104243   \n",
       "No_of_Credits_at_this__Bank                         -0.026321   \n",
       "Occupation                                           1.000000   \n",
       "No_of_dependents                                    -0.093559   \n",
       "Telephone                                            0.383022   \n",
       "Foreign_Worker                                      -0.092835   \n",
       "\n",
       "                                                   No_of_dependents  \\\n",
       "Creditability                                              0.003015   \n",
       "Status_of_existing_account                                -0.014145   \n",
       "Duration_of_Credit_month                                  -0.023834   \n",
       "Payment_Status_of_Previous_Credit(Credit_history)          0.011550   \n",
       "Purpose_of_loan                                           -0.032577   \n",
       "Credit_Amount                                              0.017144   \n",
       "Value_of_Savings_account&bonds                             0.027514   \n",
       "Years_of_Present_Employment                                0.097192   \n",
       "Percentage_of_disposable_income                           -0.071207   \n",
       "Sex_&_Marital_Status                                       0.122165   \n",
       "Guarantors/Debtors                                         0.020400   \n",
       "Duration_in_Present_Residence                              0.042643   \n",
       "Property                                                   0.011872   \n",
       "Age_in_years                                               0.118589   \n",
       "Concurrent_Credits                                        -0.076891   \n",
       "Housing                                                    0.115549   \n",
       "No_of_Credits_at_this__Bank                                0.109667   \n",
       "Occupation                                                -0.093559   \n",
       "No_of_dependents                                           1.000000   \n",
       "Telephone                                                 -0.014753   \n",
       "Foreign_Worker                                             0.077071   \n",
       "\n",
       "                                                   Telephone  Foreign_Worker  \n",
       "Creditability                                       0.036466        0.082079  \n",
       "Status_of_existing_account                          0.066296       -0.035187  \n",
       "Duration_of_Credit_month                            0.164718       -0.134680  \n",
       "Payment_Status_of_Previous_Credit(Credit_history)   0.052370        0.028554  \n",
       "Purpose_of_loan                                     0.078371       -0.113244  \n",
       "Credit_Amount                                       0.277000       -0.030662  \n",
       "Value_of_Savings_account&bonds                      0.087208        0.010450  \n",
       "Years_of_Present_Employment                         0.060518       -0.022845  \n",
       "Percentage_of_disposable_income                     0.014413       -0.094762  \n",
       "Sex_&_Marital_Status                                0.027275        0.073103  \n",
       "Guarantors/Debtors                                 -0.075035        0.140190  \n",
       "Duration_in_Present_Residence                       0.095359       -0.039691  \n",
       "Property                                            0.196802       -0.132462  \n",
       "Age_in_years                                        0.143506        0.013981  \n",
       "Concurrent_Credits                                 -0.025140        0.007700  \n",
       "Housing                                             0.100327       -0.083336  \n",
       "No_of_Credits_at_this__Bank                         0.065553       -0.018893  \n",
       "Occupation                                          0.383022       -0.092835  \n",
       "No_of_dependents                                   -0.014753        0.077071  \n",
       "Telephone                                           1.000000       -0.075012  \n",
       "Foreign_Worker                                     -0.075012        1.000000  \n",
       "\n",
       "[21 rows x 21 columns]"
      ]
     },
     "execution_count": 14,
     "metadata": {},
     "output_type": "execute_result"
    }
   ],
   "source": [
    "df.corr()"
   ]
  },
  {
   "cell_type": "code",
   "execution_count": 17,
   "id": "01cb0280-903a-458b-8cca-bc8a108073ee",
   "metadata": {},
   "outputs": [
    {
     "data": {
      "text/plain": [
       "<AxesSubplot:>"
      ]
     },
     "execution_count": 17,
     "metadata": {},
     "output_type": "execute_result"
    },
    {
     "data": {
      "image/png": "[encoded data removed]",
      "text/plain": [
       "<Figure size 1080x720 with 2 Axes>"
      ]
     },
     "metadata": {
      "needs_background": "light"
     },
     "output_type": "display_data"
    }
   ],
   "source": [
    "plt.figure(figsize=(15,10))\n",
    "sns.heatmap(df.corr(),annot=True)"
   ]
  },
  {
   "cell_type": "code",
   "execution_count": 12,
   "id": "955f3ed8-c7cd-4125-a9f5-4c66d7a0f4d0",
   "metadata": {},
   "outputs": [],
   "source": [
    "# analysis of target variable"
   ]
  },
  {
   "cell_type": "code",
   "execution_count": 11,
   "id": "e42ca18b-493d-4462-be9b-e1491550ef58",
   "metadata": {},
   "outputs": [
    {
     "data": {
      "text/plain": [
       "1    700\n",
       "0    300\n",
       "Name: Creditability, dtype: int64"
      ]
     },
     "execution_count": 11,
     "metadata": {},
     "output_type": "execute_result"
    }
   ],
   "source": [
    "df.Creditability.value_counts()"
   ]
  },
  {
   "cell_type": "code",
   "execution_count": 13,
   "id": "441fe1d0-721f-49f6-bdc4-39e8eb9c27a8",
   "metadata": {},
   "outputs": [
    {
     "data": {
      "text/plain": [
       "<AxesSubplot:xlabel='Creditability', ylabel='count'>"
      ]
     },
     "execution_count": 13,
     "metadata": {},
     "output_type": "execute_result"
    },
    {
     "data": {
      "image/png": "[encoded data removed]",
      "text/plain": [
       "<Figure size 432x288 with 1 Axes>"
      ]
     },
     "metadata": {
      "needs_background": "light"
     },
     "output_type": "display_data"
    }
   ],
   "source": [
    "sns.countplot(x='Creditability',data=df)"
   ]
  },
  {
   "cell_type": "code",
   "execution_count": 20,
   "id": "6edf5b0f-eaa8-4a41-b502-f22bc8120b12",
   "metadata": {},
   "outputs": [
    {
     "data": {
      "text/plain": [
       "3    630\n",
       "2    200\n",
       "4    148\n",
       "1     22\n",
       "Name: Occupation, dtype: int64"
      ]
     },
     "execution_count": 20,
     "metadata": {},
     "output_type": "execute_result"
    }
   ],
   "source": [
    "df.Occupation.value_counts()"
   ]
  },
  {
   "cell_type": "code",
   "execution_count": 18,
   "id": "1f1e86f9-9305-408e-93fd-d8d7e7e47a2e",
   "metadata": {},
   "outputs": [
    {
     "data": {
      "text/plain": [
       "<AxesSubplot:xlabel='Creditability', ylabel='count'>"
      ]
     },
     "execution_count": 18,
     "metadata": {},
     "output_type": "execute_result"
    },
    {
     "data": {
      "image/png": "[encoded data removed]",
      "text/plain": [
       "<Figure size 504x504 with 1 Axes>"
      ]
     },
     "metadata": {
      "needs_background": "light"
     },
     "output_type": "display_data"
    }
   ],
   "source": [
    "plt.figure(figsize=(7,7))\n",
    "sns.countplot(x=\"Creditability\", hue='Occupation', data=df)"
   ]
  },
  {
   "cell_type": "code",
   "execution_count": 21,
   "id": "7fc55d2d-4ab9-4e61-98b3-c1c02318c41a",
   "metadata": {},
   "outputs": [],
   "source": [
    "# checking signifiance missing values"
   ]
  },
  {
   "cell_type": "code",
   "execution_count": 22,
   "id": "3241b0a5-5fa6-43a1-a25c-51a01aab1f4f",
   "metadata": {},
   "outputs": [
    {
     "data": {
      "text/plain": [
       "Creditability                                        0\n",
       "Status_of_existing_account                           0\n",
       "Duration_of_Credit_month                             0\n",
       "Payment_Status_of_Previous_Credit(Credit_history)    0\n",
       "Purpose_of_loan                                      0\n",
       "Credit_Amount                                        0\n",
       "Value_of_Savings_account&bonds                       0\n",
       "Years_of_Present_Employment                          0\n",
       "Percentage_of_disposable_income                      0\n",
       "Sex_&_Marital_Status                                 0\n",
       "Guarantors/Debtors                                   0\n",
       "Duration_in_Present_Residence                        0\n",
       "Property                                             0\n",
       "Age_in_years                                         0\n",
       "Concurrent_Credits                                   0\n",
       "Housing                                              0\n",
       "No_of_Credits_at_this__Bank                          0\n",
       "Occupation                                           0\n",
       "No_of_dependents                                     0\n",
       "Telephone                                            0\n",
       "Foreign_Worker                                       0\n",
       "dtype: int64"
      ]
     },
     "execution_count": 22,
     "metadata": {},
     "output_type": "execute_result"
    }
   ],
   "source": [
    "df.isnull().sum()"
   ]
  },
  {
   "cell_type": "code",
   "execution_count": 23,
   "id": "253a650f-7feb-48b7-8d12-2a3d3422668b",
   "metadata": {},
   "outputs": [],
   "source": [
    "# no missing values found "
   ]
  },
  {
   "cell_type": "code",
   "execution_count": 24,
   "id": "dc2d3a1e-3d23-492f-a9d1-ef0bf60d5915",
   "metadata": {},
   "outputs": [],
   "source": [
    "# No categarical variable found "
   ]
  },
  {
   "cell_type": "code",
   "execution_count": 25,
   "id": "7b9bb8ba-4f99-4923-8c2f-24f9fcf2b7d9",
   "metadata": {},
   "outputs": [],
   "source": [
    "# now data is ready for learn algorithm"
   ]
  },
  {
   "cell_type": "code",
   "execution_count": 26,
   "id": "d95e5d40-2ab3-4ce3-9f9c-1cdf7f517d76",
   "metadata": {},
   "outputs": [],
   "source": [
    "# select the independent and dependant variable"
   ]
  },
  {
   "cell_type": "code",
   "execution_count": 28,
   "id": "88a44553-e421-4fd5-a1a7-ed629f687e7d",
   "metadata": {},
   "outputs": [],
   "source": [
    "X=df.drop('Creditability',axis=1)\n",
    "y=df['Creditability']"
   ]
  },
  {
   "cell_type": "code",
   "execution_count": 29,
   "id": "0b3dfad5-f4c8-4b7f-87fa-25ee1356d5dc",
   "metadata": {},
   "outputs": [],
   "source": [
    "# standardisation of data "
   ]
  },
  {
   "cell_type": "code",
   "execution_count": 30,
   "id": "0e008a73-0230-427c-872a-d33cd997968e",
   "metadata": {},
   "outputs": [],
   "source": [
    "from sklearn.preprocessing import StandardScaler\n",
    "\n",
    "scalar=StandardScaler()\n",
    "\n",
    "scaled=scalar.fit_transform(X)"
   ]
  },
  {
   "cell_type": "code",
   "execution_count": 31,
   "id": "609e60cf-31c1-4400-bceb-c062e92b7d2f",
   "metadata": {},
   "outputs": [],
   "source": [
    "# now split the data in train and test"
   ]
  },
  {
   "cell_type": "code",
   "execution_count": 33,
   "id": "e77dbd6b-0a78-44ff-beae-3a617de0ce98",
   "metadata": {},
   "outputs": [],
   "source": [
    "# import requrired libraries \n",
    "from sklearn.model_selection import train_test_split"
   ]
  },
  {
   "cell_type": "code",
   "execution_count": 35,
   "id": "e3e29867-31d2-41ca-b336-24c569555dae",
   "metadata": {},
   "outputs": [],
   "source": [
    "X_train,X_test,y_train,y_test=train_test_split(scaled,y,test_size=0.2,random_state=42)"
   ]
  },
  {
   "cell_type": "code",
   "execution_count": 36,
   "id": "4f12b6b8-f9c9-4a84-9e94-e18f5d1cc570",
   "metadata": {},
   "outputs": [],
   "source": [
    "# check the shpe"
   ]
  },
  {
   "cell_type": "code",
   "execution_count": 38,
   "id": "0d346b59-dc75-42e6-9400-6b605a16fb01",
   "metadata": {},
   "outputs": [
    {
     "data": {
      "text/plain": [
       "(800, 20)"
      ]
     },
     "execution_count": 38,
     "metadata": {},
     "output_type": "execute_result"
    }
   ],
   "source": [
    "X_train.shape"
   ]
  },
  {
   "cell_type": "code",
   "execution_count": 39,
   "id": "10a4b23e-6b0f-47a7-aaab-7ea349108775",
   "metadata": {},
   "outputs": [
    {
     "data": {
      "text/plain": [
       "(200, 20)"
      ]
     },
     "execution_count": 39,
     "metadata": {},
     "output_type": "execute_result"
    }
   ],
   "source": [
    "X_test.shape"
   ]
  },
  {
   "cell_type": "code",
   "execution_count": 41,
   "id": "7372c85c-c34e-4362-bbf9-ce7263053312",
   "metadata": {},
   "outputs": [
    {
     "data": {
      "text/plain": [
       "(800,)"
      ]
     },
     "execution_count": 41,
     "metadata": {},
     "output_type": "execute_result"
    }
   ],
   "source": [
    "y_train.shape"
   ]
  },
  {
   "cell_type": "code",
   "execution_count": 43,
   "id": "2a5ad556-7a0c-4b39-9448-7fd0bc8d142d",
   "metadata": {},
   "outputs": [
    {
     "data": {
      "text/plain": [
       "(200,)"
      ]
     },
     "execution_count": 43,
     "metadata": {},
     "output_type": "execute_result"
    }
   ],
   "source": [
    "y_test.shape"
   ]
  },
  {
   "cell_type": "code",
   "execution_count": 44,
   "id": "470c05e2-d3c6-476b-95c6-6f3e179ba93d",
   "metadata": {},
   "outputs": [],
   "source": [
    "# data is balance "
   ]
  },
  {
   "cell_type": "markdown",
   "id": "bd61ad5e-dfc0-4530-a4e8-46c375de8632",
   "metadata": {},
   "source": [
    "## logistic Regression "
   ]
  },
  {
   "cell_type": "code",
   "execution_count": 48,
   "id": "f08f2cbb-aa79-4873-b6cb-f8c85df22e75",
   "metadata": {},
   "outputs": [
    {
     "data": {
      "text/plain": [
       "LogisticRegression()"
      ]
     },
     "execution_count": 48,
     "metadata": {},
     "output_type": "execute_result"
    }
   ],
   "source": [
    "from sklearn.linear_model import LogisticRegression\n",
    "# instantiate the model (using the defalut parameter)\n",
    "le=LogisticRegression()\n",
    "# fit the model with data\n",
    "le.fit(X_train,y_train)"
   ]
  },
  {
   "cell_type": "code",
   "execution_count": 49,
   "id": "072ad4fa-e830-44f5-99e3-ba09afc7ec0c",
   "metadata": {},
   "outputs": [],
   "source": [
    "# predict on test data \n",
    "log_test_pred=le.predict(X_test)\n",
    "# predict on train_data\n",
    "log_train_pred=le.predict(X_train)"
   ]
  },
  {
   "cell_type": "code",
   "execution_count": 50,
   "id": "3a7f34e4-d987-49a9-bf8d-35c83acab0de",
   "metadata": {},
   "outputs": [],
   "source": [
    "from sklearn import metrics"
   ]
  },
  {
   "cell_type": "code",
   "execution_count": 53,
   "id": "1239f3c5-56cd-4ceb-bdec-c0d3610628a0",
   "metadata": {},
   "outputs": [
    {
     "name": "stdout",
     "output_type": "stream",
     "text": [
      "Test_Accurancy: 0.75\n",
      "Train_Accuracy: 0.77125\n"
     ]
    }
   ],
   "source": [
    "print(\"Test_Accurancy:\",metrics.accuracy_score(y_test,log_test_pred))\n",
    "print(\"Train_Accuracy:\",metrics.accuracy_score(y_train,log_train_pred))"
   ]
  },
  {
   "cell_type": "code",
   "execution_count": 54,
   "id": "7586b3f6-3639-4c4b-9dd6-d8a5155e8989",
   "metadata": {},
   "outputs": [],
   "source": [
    "# confusion mmetrics"
   ]
  },
  {
   "cell_type": "code",
   "execution_count": 55,
   "id": "8b060520-c567-483e-8cf6-b557399879d1",
   "metadata": {},
   "outputs": [
    {
     "data": {
      "text/plain": [
       "array([[ 27,  35],\n",
       "       [ 15, 123]], dtype=int64)"
      ]
     },
     "execution_count": 55,
     "metadata": {},
     "output_type": "execute_result"
    }
   ],
   "source": [
    "from sklearn.metrics import confusion_matrix\n",
    "\n",
    "cnf_metrics=confusion_matrix(y_test,log_test_pred)\n",
    "\n",
    "cnf_metrics\n"
   ]
  },
  {
   "cell_type": "code",
   "execution_count": 56,
   "id": "f4b31367-aa76-437f-a082-0c86b3686d3e",
   "metadata": {},
   "outputs": [
    {
     "data": {
      "text/plain": [
       "Text(0.5, 257.44, 'Predicted label')"
      ]
     },
     "execution_count": 56,
     "metadata": {},
     "output_type": "execute_result"
    },
    {
     "data": {
      "image/png": "[encoded data removed]",
      "text/plain": [
       "<Figure size 432x288 with 2 Axes>"
      ]
     },
     "metadata": {
      "needs_background": "light"
     },
     "output_type": "display_data"
    }
   ],
   "source": [
    "import seaborn as sns\n",
    "import  matplotlib.pyplot as plt\n",
    "class_names=[0,1] # name  of classes\n",
    "fig, ax = plt.subplots()\n",
    "tick_marks = np.arange(len(class_names))\n",
    "plt.xticks(tick_marks, class_names)\n",
    "plt.yticks(tick_marks, class_names)\n",
    "# create heatmap\n",
    "sns.heatmap(pd.DataFrame(cnf_metrics), annot=True, cmap=\"YlGnBu\" ,fmt='g')\n",
    "ax.xaxis.set_label_position(\"top\")\n",
    "plt.tight_layout()\n",
    "plt.title('Confusion matrix', y=1.1)\n",
    "plt.ylabel('Actual label')\n",
    "plt.xlabel('Predicted label')"
   ]
  },
  {
   "cell_type": "code",
   "execution_count": 58,
   "id": "b43e26c5-f374-43bc-81f0-9947762ba573",
   "metadata": {},
   "outputs": [
    {
     "name": "stdout",
     "output_type": "stream",
     "text": [
      "              precision    recall  f1-score   support\n",
      "\n",
      "           0       0.64      0.44      0.52        62\n",
      "           1       0.78      0.89      0.83       138\n",
      "\n",
      "    accuracy                           0.75       200\n",
      "   macro avg       0.71      0.66      0.68       200\n",
      "weighted avg       0.74      0.75      0.73       200\n",
      "\n"
     ]
    }
   ],
   "source": [
    "p_r_f=metrics.classification_report(y_test,log_test_pred)\n",
    "print(p_r_f)"
   ]
  },
  {
   "cell_type": "markdown",
   "id": "71fb8c70-d829-4f51-8dc2-36b9ef91efff",
   "metadata": {},
   "source": [
    "## Cross validation "
   ]
  },
  {
   "cell_type": "code",
   "execution_count": 70,
   "id": "2ad03295-81eb-4f59-8ae1-2b448ac25b49",
   "metadata": {},
   "outputs": [
    {
     "data": {
      "text/plain": [
       "GridSearchCV(cv=5, estimator=LogisticRegression(),\n",
       "             param_grid={'C': array([1.00000000e-05, 8.48342898e-05, 7.19685673e-04, 6.10540230e-03,\n",
       "       5.17947468e-02, 4.39397056e-01, 3.72759372e+00, 3.16227766e+01,\n",
       "       2.68269580e+02, 2.27584593e+03, 1.93069773e+04, 1.63789371e+05,\n",
       "       1.38949549e+06, 1.17876863e+07, 1.00000000e+08]),\n",
       "                         'penalty': ('l1', 'l2', 'elasticnet'),\n",
       "                         'solver': ('newton-cg', 'lbfgs', 'liblinear', 'sag',\n",
       "                                    'saga')})"
      ]
     },
     "execution_count": 70,
     "metadata": {},
     "output_type": "execute_result"
    }
   ],
   "source": [
    "from sklearn.linear_model import LogisticRegression\n",
    "from sklearn.model_selection import GridSearchCV\n",
    " \n",
    "# Creating the hyperparameter grid\n",
    "c_space = np.logspace(-5, 8, 15)\n",
    "param_grid = {'C': c_space,'solver': ('newton-cg', 'lbfgs', 'liblinear', 'sag', 'saga'),'penalty' :('l1', 'l2', 'elasticnet')}\n",
    " \n",
    "# Instantiating logistic regression classifier\n",
    "logreg = LogisticRegression()\n",
    " \n",
    "# Instantiating the GridSearchCV object\n",
    "logreg_cv = GridSearchCV(logreg, param_grid, cv = 5)\n",
    " \n",
    "logreg_cv.fit(X_train,y_train)"
   ]
  },
  {
   "cell_type": "code",
   "execution_count": 72,
   "id": "abf38c2c-1c72-48a3-baf7-9a5d180a6138",
   "metadata": {},
   "outputs": [
    {
     "data": {
      "text/plain": [
       "{'C': 0.4393970560760795, 'penalty': 'l1', 'solver': 'saga'}"
      ]
     },
     "execution_count": 72,
     "metadata": {},
     "output_type": "execute_result"
    }
   ],
   "source": [
    "logreg_cv.best_params_"
   ]
  },
  {
   "cell_type": "code",
   "execution_count": 73,
   "id": "d3a41469-4685-4ab5-a106-5b285f542622",
   "metadata": {},
   "outputs": [],
   "source": [
    "# predict on test data \n",
    "lr_test_pred=logreg_cv.predict(X_test)\n",
    "# predict on train data \n",
    "lr_train_pred=logreg_cv.predict(X_train)"
   ]
  },
  {
   "cell_type": "code",
   "execution_count": 74,
   "id": "ad91d6e9-6ba7-4110-b389-e91b5fbbfb54",
   "metadata": {},
   "outputs": [
    {
     "name": "stdout",
     "output_type": "stream",
     "text": [
      "Test_Accurancy: 0.755\n",
      "Train_Accuracy: 0.7725\n"
     ]
    }
   ],
   "source": [
    "print(\"Test_Accurancy:\",metrics.accuracy_score(y_test,lr_test_pred))\n",
    "print(\"Train_Accuracy:\",metrics.accuracy_score(y_train,lr_train_pred))"
   ]
  },
  {
   "cell_type": "code",
   "execution_count": 77,
   "id": "63386998-5106-4979-b326-4f9ab2266a6b",
   "metadata": {},
   "outputs": [
    {
     "data": {
      "text/plain": [
       "array([[ 27,  35],\n",
       "       [ 14, 124]], dtype=int64)"
      ]
     },
     "execution_count": 77,
     "metadata": {},
     "output_type": "execute_result"
    }
   ],
   "source": [
    "# confusion mmetrics\n",
    "from sklearn.metrics import confusion_matrix\n",
    "\n",
    "cnf_metrics=confusion_matrix(y_test,lr_test_pred)\n",
    "\n",
    "cnf_metrics\n"
   ]
  },
  {
   "cell_type": "code",
   "execution_count": 78,
   "id": "4459e7b6-bc4b-4e77-8b03-2677f85990ac",
   "metadata": {},
   "outputs": [
    {
     "data": {
      "text/plain": [
       "Text(0.5, 257.44, 'Predicted label')"
      ]
     },
     "execution_count": 78,
     "metadata": {},
     "output_type": "execute_result"
    },
    {
     "data": {
      "image/png": "[encoded data removed]",
      "text/plain": [
       "<Figure size 432x288 with 2 Axes>"
      ]
     },
     "metadata": {
      "needs_background": "light"
     },
     "output_type": "display_data"
    }
   ],
   "source": [
    "import seaborn as sns\n",
    "import  matplotlib.pyplot as plt\n",
    "class_names=[0,1] # name  of classes\n",
    "fig, ax = plt.subplots()\n",
    "tick_marks = np.arange(len(class_names))\n",
    "plt.xticks(tick_marks, class_names)\n",
    "plt.yticks(tick_marks, class_names)\n",
    "# create heatmap\n",
    "sns.heatmap(pd.DataFrame(cnf_metrics), annot=True, cmap=\"YlGnBu\" ,fmt='g')\n",
    "ax.xaxis.set_label_position(\"top\")\n",
    "plt.tight_layout()\n",
    "plt.title('Confusion matrix', y=1.1)\n",
    "plt.ylabel('Actual label')\n",
    "plt.xlabel('Predicted label')"
   ]
  },
  {
   "cell_type": "code",
   "execution_count": 83,
   "id": "bd790daa-5054-4d31-a9c5-825f2751337d",
   "metadata": {},
   "outputs": [
    {
     "name": "stdout",
     "output_type": "stream",
     "text": [
      "              precision    recall  f1-score   support\n",
      "\n",
      "           0       0.66      0.44      0.52        62\n",
      "           1       0.78      0.90      0.84       138\n",
      "\n",
      "    accuracy                           0.76       200\n",
      "   macro avg       0.72      0.67      0.68       200\n",
      "weighted avg       0.74      0.76      0.74       200\n",
      "\n"
     ]
    }
   ],
   "source": [
    "p_r_f=metrics.classification_report(y_test,lr_test_pred)\n",
    "print(p_r_f)"
   ]
  },
  {
   "cell_type": "code",
   "execution_count": 80,
   "id": "0a3d54d3-6fa8-469a-a36b-89fabba87347",
   "metadata": {},
   "outputs": [],
   "source": [
    "# AUC RUC CURVE "
   ]
  },
  {
   "cell_type": "code",
   "execution_count": 84,
   "id": "c056910a-5f0f-4c61-b9a8-05e0edff32a9",
   "metadata": {},
   "outputs": [
    {
     "data": {
      "image/png": "[encoded data removed]",
      "text/plain": [
       "<Figure size 432x288 with 1 Axes>"
      ]
     },
     "metadata": {
      "needs_background": "light"
     },
     "output_type": "display_data"
    }
   ],
   "source": [
    "#plotting roc_auc\n",
    "from sklearn import metrics\n",
    "fpr,tpr,threshold=metrics.roc_curve(y_test,lr_test_pred)\n",
    "roc_auc=metrics.auc(fpr,tpr)\n",
    "plt.title('ROC curve')\n",
    "plt.plot(fpr,tpr,label=\"AUC=%0.2f\"%roc_auc)\n",
    "plt.legend(loc='lower right')\n",
    "plt.plot([0,1],[0,1],'r--')\n",
    "plt.xlim([0,1])\n",
    "plt.ylim([0,1])\n",
    "plt.xlabel('False positive rate')\n",
    "plt.ylabel('True positive rate')\n",
    "plt.show()\n"
   ]
  },
  {
   "cell_type": "markdown",
   "id": "5956dc94-8096-47e6-b633-585a3625e752",
   "metadata": {},
   "source": [
    "## DECISION TREE CLASSIFIER"
   ]
  },
  {
   "cell_type": "code",
   "execution_count": 86,
   "id": "de192d62-c328-460f-b36b-8421d8c2bd0a",
   "metadata": {},
   "outputs": [
    {
     "data": {
      "text/plain": [
       "DecisionTreeClassifier()"
      ]
     },
     "execution_count": 86,
     "metadata": {},
     "output_type": "execute_result"
    }
   ],
   "source": [
    "from sklearn.tree import DecisionTreeClassifier\n",
    "# instantiate the model (using the defalut parameter)\n",
    "dt=DecisionTreeClassifier()\n",
    "# fit the model\n",
    "dt.fit(X_train,y_train)"
   ]
  },
  {
   "cell_type": "code",
   "execution_count": 87,
   "id": "0d9c9627-b43f-48ed-9398-ea2e60a737a0",
   "metadata": {},
   "outputs": [],
   "source": [
    "# prediction on test data \n",
    "dt_test_pred=dt.predict(X_test)\n",
    "# prediction on test data \n",
    "dt_train_pred=dt.predict(X_train)"
   ]
  },
  {
   "cell_type": "code",
   "execution_count": 88,
   "id": "31871898-8fe1-4f71-aa66-3c3fee9aeff8",
   "metadata": {},
   "outputs": [
    {
     "name": "stdout",
     "output_type": "stream",
     "text": [
      "Train_Accuracy: 0.73\n",
      "Test_Accuracy: 1.0\n"
     ]
    }
   ],
   "source": [
    "print('Train_Accuracy:',metrics.accuracy_score(y_test,dt_test_pred))\n",
    "print('Test_Accuracy:',metrics.accuracy_score(y_train,dt_train_pred))"
   ]
  },
  {
   "cell_type": "code",
   "execution_count": 90,
   "id": "fb2687b9-3efd-418d-9af0-45a765d5b516",
   "metadata": {},
   "outputs": [
    {
     "data": {
      "text/plain": [
       "array([[ 39,  23],\n",
       "       [ 31, 107]], dtype=int64)"
      ]
     },
     "execution_count": 90,
     "metadata": {},
     "output_type": "execute_result"
    }
   ],
   "source": [
    "# confusion matrix\n",
    "\n",
    "cnf_mtrics=confusion_matrix(y_test,dt_test_pred)\n",
    "cnf_mtrics"
   ]
  },
  {
   "cell_type": "code",
   "execution_count": 91,
   "id": "9e910974-740b-4f30-8eb3-78a3a332cb22",
   "metadata": {},
   "outputs": [
    {
     "data": {
      "text/plain": [
       "Text(0.5, 257.44, 'Predicted label')"
      ]
     },
     "execution_count": 91,
     "metadata": {},
     "output_type": "execute_result"
    },
    {
     "data": {
      "image/png": "[encoded data removed]",
      "text/plain": [
       "<Figure size 432x288 with 2 Axes>"
      ]
     },
     "metadata": {
      "needs_background": "light"
     },
     "output_type": "display_data"
    }
   ],
   "source": [
    "import seaborn as sns\n",
    "import  matplotlib.pyplot as plt\n",
    "class_names=[0,1] # name  of classes\n",
    "fig, ax = plt.subplots()\n",
    "tick_marks = np.arange(len(class_names))\n",
    "plt.xticks(tick_marks, class_names)\n",
    "plt.yticks(tick_marks, class_names)\n",
    "# create heatmap\n",
    "sns.heatmap(pd.DataFrame(cnf_metrics), annot=True, cmap=\"YlGnBu\" ,fmt='g')\n",
    "ax.xaxis.set_label_position(\"top\")\n",
    "plt.tight_layout()\n",
    "plt.title('Confusion matrix', y=1.1)\n",
    "plt.ylabel('Actual label')\n",
    "plt.xlabel('Predicted label')"
   ]
  },
  {
   "cell_type": "code",
   "execution_count": 92,
   "id": "e021d812-b602-406a-8712-294fd763b422",
   "metadata": {},
   "outputs": [],
   "source": [
    "# yper parameter"
   ]
  },
  {
   "cell_type": "code",
   "execution_count": 117,
   "id": "c8e13f37-d481-4295-99df-0c91ba794578",
   "metadata": {},
   "outputs": [
    {
     "data": {
      "text/plain": [
       "GridSearchCV(cv=5, estimator=DecisionTreeClassifier(),\n",
       "             param_grid={'criterion': ['gini', 'entropy'],\n",
       "                         'max_depth': array([ 1,  2,  3,  4,  5,  6,  7,  8,  9, 10, 11, 12, 13, 14, 15, 16, 17,\n",
       "       18, 19, 20, 21, 22, 23, 24, 25, 26, 27, 28, 29, 30, 31, 32, 33, 34,\n",
       "       35, 36, 37, 38, 39, 40, 41, 42, 43, 44, 45, 46, 47, 48, 49]),\n",
       "                         'min_samples_leaf': array([ 1,  2,  3,  4,  5,  6,  7,  8,  9, 10, 11, 12, 13, 14, 15, 16, 17,\n",
       "       18, 19]),\n",
       "                         'splitter': ('best', 'random')})"
      ]
     },
     "execution_count": 117,
     "metadata": {},
     "output_type": "execute_result"
    }
   ],
   "source": [
    "from sklearn.tree import DecisionTreeClassifier\n",
    "from sklearn.model_selection import GridSearchCV\n",
    " \n",
    "# Creating the hyperparameter grid\n",
    "param_dist = {\"max_depth\": np.arange(1,50),\n",
    "              \"min_samples_leaf\":np.arange(1, 20),\n",
    "              \"criterion\": [\"gini\", \"entropy\"],\n",
    "             \"splitter\" : (\"best\", \"random\")}\n",
    "            \n",
    " \n",
    "# Instantiating Decision Tree classifier\n",
    "tree = DecisionTreeClassifier()\n",
    " \n",
    "# Instantiating RandomizedSearchCV object\n",
    "tree_cv = GridSearchCV(tree, param_dist, cv = 5)\n",
    " \n",
    "tree_cv.fit(X_train,y_train)"
   ]
  },
  {
   "cell_type": "code",
   "execution_count": 118,
   "id": "4e6f8244-0c47-4971-8983-2f6d1d6adfb6",
   "metadata": {},
   "outputs": [
    {
     "data": {
      "text/plain": [
       "{'criterion': 'gini',\n",
       " 'max_depth': 17,\n",
       " 'min_samples_leaf': 15,\n",
       " 'splitter': 'random'}"
      ]
     },
     "execution_count": 118,
     "metadata": {},
     "output_type": "execute_result"
    }
   ],
   "source": [
    "tree_cv.best_params_"
   ]
  },
  {
   "cell_type": "code",
   "execution_count": 119,
   "id": "af9055b4-a397-47e8-9ddf-527b8a7e316a",
   "metadata": {},
   "outputs": [],
   "source": [
    "y_test_pred=tree_cv.predict(X_test)\n",
    "y_train_pred=tree_cv.predict(X_train)"
   ]
  },
  {
   "cell_type": "code",
   "execution_count": 120,
   "id": "2b6eea54-5f10-44fe-961a-8a86283cac79",
   "metadata": {},
   "outputs": [
    {
     "name": "stdout",
     "output_type": "stream",
     "text": [
      "Test_Accuracy: 0.745\n",
      "Train_Accuracy: 0.78125\n"
     ]
    }
   ],
   "source": [
    "print('Test_Accuracy:',metrics.accuracy_score(y_test,y_test_pred))\n",
    "print('Train_Accuracy:',metrics.accuracy_score(y_train,y_train_pred))"
   ]
  },
  {
   "cell_type": "code",
   "execution_count": 123,
   "id": "8526f03d-65ac-46b0-912a-8cabefe59b7f",
   "metadata": {},
   "outputs": [
    {
     "data": {
      "text/plain": [
       "array([[ 24,  38],\n",
       "       [ 13, 125]], dtype=int64)"
      ]
     },
     "execution_count": 123,
     "metadata": {},
     "output_type": "execute_result"
    }
   ],
   "source": [
    "cnf_mtrics=confusion_matrix(y_test,y_test_pred)\n",
    "cnf_mtrics"
   ]
  },
  {
   "cell_type": "code",
   "execution_count": 126,
   "id": "ea285a22-ca95-421b-ab88-9a86f0baa134",
   "metadata": {},
   "outputs": [
    {
     "data": {
      "text/plain": [
       "Text(0.5, 257.44, 'Predicted label')"
      ]
     },
     "execution_count": 126,
     "metadata": {},
     "output_type": "execute_result"
    },
    {
     "data": {
      "image/png": "[encoded data removed]",
      "text/plain": [
       "<Figure size 432x288 with 2 Axes>"
      ]
     },
     "metadata": {
      "needs_background": "light"
     },
     "output_type": "display_data"
    }
   ],
   "source": [
    "import seaborn as sns\n",
    "import  matplotlib.pyplot as plt\n",
    "class_names=[0,1] # name  of classes\n",
    "fig, ax = plt.subplots()\n",
    "tick_marks = np.arange(len(class_names))\n",
    "plt.xticks(tick_marks, class_names)\n",
    "plt.yticks(tick_marks, class_names)\n",
    "# create heatmap\n",
    "sns.heatmap(pd.DataFrame(cnf_metrics), annot=True, cmap=\"YlGnBu\" ,fmt='g')\n",
    "ax.xaxis.set_label_position(\"top\")\n",
    "plt.tight_layout()\n",
    "plt.title('Confusion matrix', y=1.1)\n",
    "plt.ylabel('Actual label')\n",
    "plt.xlabel('Predicted label')"
   ]
  },
  {
   "cell_type": "code",
   "execution_count": 127,
   "id": "73ce1d4c-794c-412c-b8fb-528dbc4215b0",
   "metadata": {},
   "outputs": [
    {
     "name": "stdout",
     "output_type": "stream",
     "text": [
      "              precision    recall  f1-score   support\n",
      "\n",
      "           0       0.65      0.39      0.48        62\n",
      "           1       0.77      0.91      0.83       138\n",
      "\n",
      "    accuracy                           0.74       200\n",
      "   macro avg       0.71      0.65      0.66       200\n",
      "weighted avg       0.73      0.74      0.72       200\n",
      "\n"
     ]
    }
   ],
   "source": [
    "p_r_f=metrics.classification_report(y_test,y_test_pred)\n",
    "print(p_r_f)"
   ]
  },
  {
   "cell_type": "code",
   "execution_count": 128,
   "id": "313bc557-704b-4b08-9aac-b2c2b610489a",
   "metadata": {},
   "outputs": [
    {
     "data": {
      "image/png": "[encoded data removed]",
      "text/plain": [
       "<Figure size 432x288 with 1 Axes>"
      ]
     },
     "metadata": {
      "needs_background": "light"
     },
     "output_type": "display_data"
    }
   ],
   "source": [
    "#plotting roc_auc\n",
    "from sklearn import metrics\n",
    "fpr,tpr,threshold=metrics.roc_curve(y_test,y_test_pred)\n",
    "roc_auc=metrics.auc(fpr,tpr)\n",
    "plt.title('ROC curve')\n",
    "plt.plot(fpr,tpr,label=\"AUC=%0.2f\"%roc_auc)\n",
    "plt.legend(loc='lower right')\n",
    "plt.plot([0,1],[0,1],'r--')\n",
    "plt.xlim([0,1])\n",
    "plt.ylim([0,1])\n",
    "plt.xlabel('False positive rate')\n",
    "plt.ylabel('True positive rate')\n",
    "plt.show()"
   ]
  },
  {
   "cell_type": "code",
   "execution_count": null,
   "id": "f4683ffd-8b0c-4438-ac2f-65eb242f3533",
   "metadata": {},
   "outputs": [],
   "source": []
  }
 ],
 "metadata": {
  "kernelspec": {
   "display_name": "Python 3 (ipykernel)",
   "language": "python",
   "name": "python3"
  },
  "language_info": {
   "codemirror_mode": {
    "name": "ipython",
    "version": 3
   },
   "file_extension": ".py",
   "mimetype": "text/x-python",
   "name": "python",
   "nbconvert_exporter": "python",
   "pygments_lexer": "ipython3",
   "version": "3.9.12"
  }
 },
 "nbformat": 4,
 "nbformat_minor": 5
}
